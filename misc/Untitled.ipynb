{
 "cells": [
  {
   "cell_type": "code",
   "execution_count": null,
   "id": "9b244751-3731-4267-ab5a-2d81860eb510",
   "metadata": {},
   "outputs": [],
   "source": []
  }
 ],
 "metadata": {
  "kernelspec": {
   "display_name": "",
   "name": ""
  },
  "language_info": {
   "name": ""
  }
 },
 "nbformat": 4,
 "nbformat_minor": 5
}
