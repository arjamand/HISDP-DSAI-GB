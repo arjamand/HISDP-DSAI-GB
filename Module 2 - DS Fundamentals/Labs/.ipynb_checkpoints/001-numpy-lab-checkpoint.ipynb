{
 "cells": [
  {
   "cell_type": "code",
   "execution_count": 36,
   "id": "b367ffe8-1e99-48db-a8a1-c222bfc7f54d",
   "metadata": {},
   "outputs": [
    {
     "name": "stdout",
     "output_type": "stream",
     "text": [
      "[1 2 3]\n",
      "<class 'numpy.ndarray'>\n",
      "int64\n"
     ]
    }
   ],
   "source": [
    "# we use numpy to wwork with complex mathematical problem data manipulation / processsing and arrays \n",
    "import numpy as np\n",
    "arr1 = np.array([1,2,3])\n",
    "\n",
    "# 1d arrays\n",
    "print(arr1)\n",
    "print(type(arr1))\n",
    "print(arr1.dtype)"
   ]
  },
  {
   "cell_type": "code",
   "execution_count": 22,
   "id": "50dfa503-5afd-4cc9-b944-e702077ab907",
   "metadata": {},
   "outputs": [
    {
     "name": "stdout",
     "output_type": "stream",
     "text": [
      "[[1 2 3]\n",
      " [4 5 6]]\n",
      "<class 'numpy.ndarray'>\n"
     ]
    }
   ],
   "source": [
    "#2d arrays\n",
    "arr2 = np.array([[1,2,3],[4,5,6]])\n",
    "print(arr2)\n",
    "print(type(arr2))"
   ]
  },
  {
   "cell_type": "code",
   "execution_count": 23,
   "id": "ba7568a4-7eca-4aa5-aaf2-89f414112811",
   "metadata": {},
   "outputs": [
    {
     "name": "stdout",
     "output_type": "stream",
     "text": [
      "[50  2  3]\n"
     ]
    }
   ],
   "source": [
    "#accessing item in an array\n",
    "arr1[0] = 50\n",
    "print(arr1)"
   ]
  },
  {
   "cell_type": "code",
   "execution_count": 24,
   "id": "e7a444bc-0cec-4d25-bec6-9fe047565c5c",
   "metadata": {},
   "outputs": [
    {
     "data": {
      "text/plain": [
       "array([50,  2,  3])"
      ]
     },
     "execution_count": 24,
     "metadata": {},
     "output_type": "execute_result"
    }
   ],
   "source": [
    "arr1"
   ]
  },
  {
   "cell_type": "code",
   "execution_count": 26,
   "id": "43f0cdb8-422c-415a-9c15-959955bd5d7b",
   "metadata": {},
   "outputs": [
    {
     "name": "stdout",
     "output_type": "stream",
     "text": [
      "[50  2]\n"
     ]
    }
   ],
   "source": [
    "# list slicing\n",
    "print(arr1[0:2])"
   ]
  },
  {
   "cell_type": "code",
   "execution_count": 37,
   "id": "f206f11f-6c1f-44e8-9e89-30cc1dc47dd7",
   "metadata": {},
   "outputs": [
    {
     "name": "stdout",
     "output_type": "stream",
     "text": [
      "[1 2 3]\n",
      "[ 1 33 44]\n"
     ]
    }
   ],
   "source": [
    "print(arr1)\n",
    "arr1[1:3] = 33, 44\n",
    "print(arr1)"
   ]
  },
  {
   "cell_type": "code",
   "execution_count": 38,
   "id": "8ccc2b3e-fe8c-473a-8dda-5a32fbb60aeb",
   "metadata": {},
   "outputs": [
    {
     "name": "stdout",
     "output_type": "stream",
     "text": [
      "[33]\n"
     ]
    }
   ],
   "source": [
    "select = [1]\n",
    "print(arr1[select])"
   ]
  },
  {
   "cell_type": "code",
   "execution_count": 39,
   "id": "80a6f41b-2222-4787-a70c-8f9bb0a7514e",
   "metadata": {},
   "outputs": [
    {
     "name": "stdout",
     "output_type": "stream",
     "text": [
      "3\n"
     ]
    }
   ],
   "source": [
    "print(arr1.size)"
   ]
  },
  {
   "cell_type": "code",
   "execution_count": 40,
   "id": "9ac9e8fc-c266-4831-860f-3968632fbb4e",
   "metadata": {},
   "outputs": [
    {
     "name": "stdout",
     "output_type": "stream",
     "text": [
      "6\n"
     ]
    }
   ],
   "source": [
    "print(arr2.size)"
   ]
  },
  {
   "cell_type": "code",
   "execution_count": 41,
   "id": "5ee3fd0c-f79e-43c6-bc50-d481e6854ebf",
   "metadata": {},
   "outputs": [
    {
     "name": "stdout",
     "output_type": "stream",
     "text": [
      "(3,)\n",
      "(2, 3)\n"
     ]
    }
   ],
   "source": [
    "print(arr1.shape)\n",
    "print(arr2.shape)"
   ]
  },
  {
   "cell_type": "code",
   "execution_count": 42,
   "id": "db89cd53-15d2-4646-90af-5235bc96a7f0",
   "metadata": {},
   "outputs": [
    {
     "name": "stdout",
     "output_type": "stream",
     "text": [
      "1\n",
      "2\n"
     ]
    }
   ],
   "source": [
    "print(arr1.ndim)\n",
    "print(arr2.ndim)"
   ]
  },
  {
   "cell_type": "code",
   "execution_count": 44,
   "id": "58f0366b-be18-43c1-8f57-c502f7ccde67",
   "metadata": {},
   "outputs": [
    {
     "name": "stdout",
     "output_type": "stream",
     "text": [
      "[[1. 1. 1. 1. 1. 1. 1. 1.]\n",
      " [1. 1. 1. 1. 1. 1. 1. 1.]\n",
      " [1. 1. 1. 1. 1. 1. 1. 1.]\n",
      " [1. 1. 1. 1. 1. 1. 1. 1.]\n",
      " [1. 1. 1. 1. 1. 1. 1. 1.]]\n"
     ]
    }
   ],
   "source": [
    "arr3 = np.ones((5,8))\n",
    "print(arr3)"
   ]
  },
  {
   "cell_type": "code",
   "execution_count": 46,
   "id": "d0e86774-aba3-4457-b460-49f381b2275f",
   "metadata": {},
   "outputs": [
    {
     "name": "stdout",
     "output_type": "stream",
     "text": [
      "[[1. 0. 0. 0. 0.]\n",
      " [0. 1. 0. 0. 0.]\n",
      " [0. 0. 1. 0. 0.]\n",
      " [0. 0. 0. 1. 0.]\n",
      " [0. 0. 0. 0. 1.]]\n"
     ]
    }
   ],
   "source": [
    "arr4 = np.eye(5)\n",
    "print(arr4)"
   ]
  },
  {
   "cell_type": "code",
   "execution_count": 48,
   "id": "f16f7541-be5c-4bce-8cfe-9d225800a740",
   "metadata": {},
   "outputs": [
    {
     "name": "stdout",
     "output_type": "stream",
     "text": [
      "[[0. 0. 0. 0. 0. 0. 0. 0.]\n",
      " [0. 0. 0. 0. 0. 0. 0. 0.]\n",
      " [0. 0. 0. 0. 0. 0. 0. 0.]\n",
      " [0. 0. 0. 0. 0. 0. 0. 0.]\n",
      " [0. 0. 0. 0. 0. 0. 0. 0.]]\n"
     ]
    }
   ],
   "source": [
    "arr5 = np.zeros((5,8))\n",
    "print(arr5)"
   ]
  },
  {
   "cell_type": "code",
   "execution_count": 57,
   "id": "6b1abe19-97cb-45d0-bf2e-6b2fd37e22d0",
   "metadata": {},
   "outputs": [
    {
     "name": "stdout",
     "output_type": "stream",
     "text": [
      "[[2. 3. 4. 5.]\n",
      " [2. 3. 1. 2.]\n",
      " [5. 4. 5. 6.]]\n"
     ]
    }
   ],
   "source": [
    "arr6 = np.array([[2,3,4,5],[2,3,1,2],[5,4,5,6]], dtype = 'float64')\n",
    "print(arr6)"
   ]
  },
  {
   "cell_type": "code",
   "execution_count": 58,
   "id": "039a1620-d1c8-4fbc-a840-27996142783a",
   "metadata": {},
   "outputs": [
    {
     "name": "stdout",
     "output_type": "stream",
     "text": [
      "float64\n"
     ]
    }
   ],
   "source": [
    "print(arr6.dtype)"
   ]
  },
  {
   "cell_type": "code",
   "execution_count": 60,
   "id": "5c4b5311-4ee3-4dbb-88c4-133cf8653b28",
   "metadata": {},
   "outputs": [
    {
     "name": "stdout",
     "output_type": "stream",
     "text": [
      "4.0\n"
     ]
    }
   ],
   "source": [
    "print(arr6[0,2])"
   ]
  },
  {
   "cell_type": "code",
   "execution_count": 63,
   "id": "2417c3e9-52a7-4016-9d2d-7eaca8c634a3",
   "metadata": {},
   "outputs": [
    {
     "name": "stdout",
     "output_type": "stream",
     "text": [
      "[[2. 3. 4.]\n",
      " [2. 3. 1.]\n",
      " [5. 4. 5.]]\n"
     ]
    }
   ],
   "source": [
    "print(arr6[0:,:3])"
   ]
  },
  {
   "cell_type": "code",
   "execution_count": null,
   "id": "d83b75a4-3da8-4c6b-8807-50be57feec47",
   "metadata": {},
   "outputs": [],
   "source": []
  }
 ],
 "metadata": {
  "kernelspec": {
   "display_name": "Python 3 (ipykernel)",
   "language": "python",
   "name": "python3"
  },
  "language_info": {
   "codemirror_mode": {
    "name": "ipython",
    "version": 3
   },
   "file_extension": ".py",
   "mimetype": "text/x-python",
   "name": "python",
   "nbconvert_exporter": "python",
   "pygments_lexer": "ipython3",
   "version": "3.12.4"
  }
 },
 "nbformat": 4,
 "nbformat_minor": 5
}
