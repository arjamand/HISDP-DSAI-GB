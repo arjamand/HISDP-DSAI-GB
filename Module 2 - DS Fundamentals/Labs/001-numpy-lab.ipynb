{
 "cells": [
  {
   "cell_type": "code",
   "execution_count": 64,
   "id": "b367ffe8-1e99-48db-a8a1-c222bfc7f54d",
   "metadata": {},
   "outputs": [
    {
     "name": "stdout",
     "output_type": "stream",
     "text": [
      "[1 2 3]\n",
      "<class 'numpy.ndarray'>\n",
      "int64\n"
     ]
    }
   ],
   "source": [
    "# we use numpy to wwork with complex mathematical problem data manipulation / processsing and arrays \n",
    "import numpy as np # np = nickname/alias\n",
    "arr1 = np.array([1,2,3])\n",
    "\n",
    "# 1d arrays\n",
    "print(arr1)\n",
    "print(type(arr1))\n",
    "print(arr1.dtype)"
   ]
  },
  {
   "cell_type": "code",
   "execution_count": 65,
   "id": "66baa79a-517f-40df-9296-e89414e6157b",
   "metadata": {},
   "outputs": [
    {
     "name": "stdout",
     "output_type": "stream",
     "text": [
      "2.0\n"
     ]
    }
   ],
   "source": [
    "print(arr1.mean())"
   ]
  },
  {
   "cell_type": "code",
   "execution_count": 73,
   "id": "6c8d6a26-a887-4134-917a-66f2eba137c9",
   "metadata": {},
   "outputs": [
    {
     "name": "stdout",
     "output_type": "stream",
     "text": [
      "1\n"
     ]
    }
   ],
   "source": [
    "print(arr1.min())\n"
   ]
  },
  {
   "cell_type": "code",
   "execution_count": 74,
   "id": "fd44c46b-8580-4269-a68f-a125bf82cbc0",
   "metadata": {},
   "outputs": [
    {
     "name": "stdout",
     "output_type": "stream",
     "text": [
      "3\n"
     ]
    }
   ],
   "source": [
    "print(arr1.max())"
   ]
  },
  {
   "cell_type": "code",
   "execution_count": 66,
   "id": "50dfa503-5afd-4cc9-b944-e702077ab907",
   "metadata": {},
   "outputs": [
    {
     "name": "stdout",
     "output_type": "stream",
     "text": [
      "[[1 2 3]\n",
      " [4 5 6]]\n",
      "<class 'numpy.ndarray'>\n"
     ]
    }
   ],
   "source": [
    "#2d arrays\n",
    "arr2 = np.array([[1,2,3],[4,5,6]])\n",
    "print(arr2)\n",
    "print(type(arr2))"
   ]
  },
  {
   "cell_type": "code",
   "execution_count": 67,
   "id": "6e35f7d1-f334-4211-afea-ef3ae71eb6af",
   "metadata": {},
   "outputs": [
    {
     "name": "stdout",
     "output_type": "stream",
     "text": [
      "[[1 2 3 4 5 6]]\n"
     ]
    }
   ],
   "source": [
    "arr1_reshape = np.reshape(arr2, (1,6))\n",
    "print(arr1_reshape)"
   ]
  },
  {
   "cell_type": "code",
   "execution_count": 3,
   "id": "ba7568a4-7eca-4aa5-aaf2-89f414112811",
   "metadata": {},
   "outputs": [
    {
     "name": "stdout",
     "output_type": "stream",
     "text": [
      "[50  2  3]\n"
     ]
    }
   ],
   "source": [
    "#accessing item in an array\n",
    "arr1[0] = 50\n",
    "print(arr1)"
   ]
  },
  {
   "cell_type": "code",
   "execution_count": 4,
   "id": "e7a444bc-0cec-4d25-bec6-9fe047565c5c",
   "metadata": {},
   "outputs": [
    {
     "data": {
      "text/plain": [
       "array([50,  2,  3])"
      ]
     },
     "execution_count": 4,
     "metadata": {},
     "output_type": "execute_result"
    }
   ],
   "source": [
    "arr1"
   ]
  },
  {
   "cell_type": "code",
   "execution_count": 5,
   "id": "43f0cdb8-422c-415a-9c15-959955bd5d7b",
   "metadata": {},
   "outputs": [
    {
     "name": "stdout",
     "output_type": "stream",
     "text": [
      "[50  2]\n"
     ]
    }
   ],
   "source": [
    "# list slicing\n",
    "print(arr1[0:2])"
   ]
  },
  {
   "cell_type": "code",
   "execution_count": 6,
   "id": "f206f11f-6c1f-44e8-9e89-30cc1dc47dd7",
   "metadata": {},
   "outputs": [
    {
     "name": "stdout",
     "output_type": "stream",
     "text": [
      "[50  2  3]\n",
      "[50 33 44]\n"
     ]
    }
   ],
   "source": [
    "print(arr1)\n",
    "arr1[1:3] = 33, 44\n",
    "print(arr1)"
   ]
  },
  {
   "cell_type": "code",
   "execution_count": 7,
   "id": "8ccc2b3e-fe8c-473a-8dda-5a32fbb60aeb",
   "metadata": {},
   "outputs": [
    {
     "name": "stdout",
     "output_type": "stream",
     "text": [
      "[33]\n"
     ]
    }
   ],
   "source": [
    "select = [1]\n",
    "print(arr1[select])"
   ]
  },
  {
   "cell_type": "code",
   "execution_count": 8,
   "id": "80a6f41b-2222-4787-a70c-8f9bb0a7514e",
   "metadata": {},
   "outputs": [
    {
     "name": "stdout",
     "output_type": "stream",
     "text": [
      "3\n"
     ]
    }
   ],
   "source": [
    "print(arr1.size)"
   ]
  },
  {
   "cell_type": "code",
   "execution_count": 9,
   "id": "9ac9e8fc-c266-4831-860f-3968632fbb4e",
   "metadata": {},
   "outputs": [
    {
     "name": "stdout",
     "output_type": "stream",
     "text": [
      "6\n"
     ]
    }
   ],
   "source": [
    "print(arr2.size)"
   ]
  },
  {
   "cell_type": "code",
   "execution_count": 10,
   "id": "5ee3fd0c-f79e-43c6-bc50-d481e6854ebf",
   "metadata": {},
   "outputs": [
    {
     "name": "stdout",
     "output_type": "stream",
     "text": [
      "(3,)\n",
      "(2, 3)\n"
     ]
    }
   ],
   "source": [
    "print(arr1.shape)\n",
    "print(arr2.shape)"
   ]
  },
  {
   "cell_type": "code",
   "execution_count": 11,
   "id": "db89cd53-15d2-4646-90af-5235bc96a7f0",
   "metadata": {},
   "outputs": [
    {
     "name": "stdout",
     "output_type": "stream",
     "text": [
      "1\n",
      "2\n"
     ]
    }
   ],
   "source": [
    "print(arr1.ndim)\n",
    "print(arr2.ndim)"
   ]
  },
  {
   "cell_type": "code",
   "execution_count": 12,
   "id": "58f0366b-be18-43c1-8f57-c502f7ccde67",
   "metadata": {},
   "outputs": [
    {
     "name": "stdout",
     "output_type": "stream",
     "text": [
      "[[1. 1. 1. 1. 1. 1. 1. 1.]\n",
      " [1. 1. 1. 1. 1. 1. 1. 1.]\n",
      " [1. 1. 1. 1. 1. 1. 1. 1.]\n",
      " [1. 1. 1. 1. 1. 1. 1. 1.]\n",
      " [1. 1. 1. 1. 1. 1. 1. 1.]]\n"
     ]
    }
   ],
   "source": [
    "arr3 = np.ones((5,8))\n",
    "print(arr3)"
   ]
  },
  {
   "cell_type": "code",
   "execution_count": 13,
   "id": "d0e86774-aba3-4457-b460-49f381b2275f",
   "metadata": {},
   "outputs": [
    {
     "name": "stdout",
     "output_type": "stream",
     "text": [
      "[[1. 0. 0. 0. 0.]\n",
      " [0. 1. 0. 0. 0.]\n",
      " [0. 0. 1. 0. 0.]\n",
      " [0. 0. 0. 1. 0.]\n",
      " [0. 0. 0. 0. 1.]]\n"
     ]
    }
   ],
   "source": [
    "arr4 = np.eye(5)\n",
    "print(arr4)"
   ]
  },
  {
   "cell_type": "code",
   "execution_count": 14,
   "id": "f16f7541-be5c-4bce-8cfe-9d225800a740",
   "metadata": {},
   "outputs": [
    {
     "name": "stdout",
     "output_type": "stream",
     "text": [
      "[[0. 0. 0. 0. 0. 0. 0. 0.]\n",
      " [0. 0. 0. 0. 0. 0. 0. 0.]\n",
      " [0. 0. 0. 0. 0. 0. 0. 0.]\n",
      " [0. 0. 0. 0. 0. 0. 0. 0.]\n",
      " [0. 0. 0. 0. 0. 0. 0. 0.]]\n"
     ]
    }
   ],
   "source": [
    "arr5 = np.zeros((5,8))\n",
    "print(arr5)"
   ]
  },
  {
   "cell_type": "code",
   "execution_count": 15,
   "id": "6b1abe19-97cb-45d0-bf2e-6b2fd37e22d0",
   "metadata": {},
   "outputs": [
    {
     "name": "stdout",
     "output_type": "stream",
     "text": [
      "[[2. 3. 4. 5.]\n",
      " [2. 3. 1. 2.]\n",
      " [5. 4. 5. 6.]]\n"
     ]
    }
   ],
   "source": [
    "arr6 = np.array([[2,3,4,5],[2,3,1,2],[5,4,5,6]], dtype = 'float64')\n",
    "print(arr6)"
   ]
  },
  {
   "cell_type": "code",
   "execution_count": 16,
   "id": "039a1620-d1c8-4fbc-a840-27996142783a",
   "metadata": {},
   "outputs": [
    {
     "name": "stdout",
     "output_type": "stream",
     "text": [
      "float64\n"
     ]
    }
   ],
   "source": [
    "print(arr6.dtype)"
   ]
  },
  {
   "cell_type": "code",
   "execution_count": 17,
   "id": "5c4b5311-4ee3-4dbb-88c4-133cf8653b28",
   "metadata": {},
   "outputs": [
    {
     "name": "stdout",
     "output_type": "stream",
     "text": [
      "4.0\n"
     ]
    }
   ],
   "source": [
    "print(arr6[0,2])"
   ]
  },
  {
   "cell_type": "code",
   "execution_count": 18,
   "id": "2417c3e9-52a7-4016-9d2d-7eaca8c634a3",
   "metadata": {},
   "outputs": [
    {
     "name": "stdout",
     "output_type": "stream",
     "text": [
      "[[2. 3. 4.]\n",
      " [2. 3. 1.]\n",
      " [5. 4. 5.]]\n"
     ]
    }
   ],
   "source": [
    "print(arr6[0:,:3])"
   ]
  },
  {
   "cell_type": "code",
   "execution_count": 19,
   "id": "d83b75a4-3da8-4c6b-8807-50be57feec47",
   "metadata": {},
   "outputs": [
    {
     "name": "stdout",
     "output_type": "stream",
     "text": [
      "2\n"
     ]
    }
   ],
   "source": [
    "print(arr5.ndim)"
   ]
  },
  {
   "cell_type": "code",
   "execution_count": 21,
   "id": "9de3868a-fdf1-40b6-ae64-1904fe7eabc4",
   "metadata": {},
   "outputs": [
    {
     "data": {
      "text/plain": [
       "numpy.ndarray"
      ]
     },
     "execution_count": 21,
     "metadata": {},
     "output_type": "execute_result"
    }
   ],
   "source": [
    "type(arr5)"
   ]
  },
  {
   "cell_type": "code",
   "execution_count": 22,
   "id": "94acc77f-cb98-4668-a865-25a23c997924",
   "metadata": {},
   "outputs": [
    {
     "data": {
      "text/plain": [
       "dtype('float64')"
      ]
     },
     "execution_count": 22,
     "metadata": {},
     "output_type": "execute_result"
    }
   ],
   "source": [
    "arr5.dtype"
   ]
  },
  {
   "cell_type": "code",
   "execution_count": 69,
   "id": "49ce4c27-63ee-4bf0-91d2-1a03dfeb7e70",
   "metadata": {},
   "outputs": [],
   "source": [
    "arr6 = np.array([\"a\",\"b\",\"c\",\"d\"], dtype = \"str\")"
   ]
  },
  {
   "cell_type": "code",
   "execution_count": 70,
   "id": "c057c92d-1b45-4aaf-b162-86cfcf4ad57b",
   "metadata": {},
   "outputs": [
    {
     "name": "stdout",
     "output_type": "stream",
     "text": [
      "['b' 'b' 'c' 'd']\n"
     ]
    }
   ],
   "source": [
    "arr6[0] = \"bcd\"\n",
    "print(arr6)"
   ]
  },
  {
   "cell_type": "code",
   "execution_count": 39,
   "id": "25a794c6-a6a1-4584-838f-2637197063a9",
   "metadata": {},
   "outputs": [
    {
     "name": "stdout",
     "output_type": "stream",
     "text": [
      "[['Roll No' 'Name']\n",
      " ['GBAI 1' 'ALi']\n",
      " ['GBAI 2' 'Ahmed']]\n"
     ]
    }
   ],
   "source": [
    "arr7 = np.array([[\"Roll No\",\"Name\"],[\"GBAI 1\", \"ALi\"], [\"GBAI 2\", \"Ahmed\"] ])\n",
    "print(arr7)"
   ]
  },
  {
   "cell_type": "code",
   "execution_count": 54,
   "id": "e211a53c-f31a-481c-935c-10184bd914d3",
   "metadata": {},
   "outputs": [
    {
     "data": {
      "text/plain": [
       "dtype('<U7')"
      ]
     },
     "execution_count": 54,
     "metadata": {},
     "output_type": "execute_result"
    }
   ],
   "source": [
    "arr7.dtype"
   ]
  },
  {
   "cell_type": "code",
   "execution_count": null,
   "id": "441643d6-1f8a-4719-acac-28a08407fce3",
   "metadata": {},
   "outputs": [],
   "source": []
  }
 ],
 "metadata": {
  "kernelspec": {
   "display_name": "Python 3 (ipykernel)",
   "language": "python",
   "name": "python3"
  },
  "language_info": {
   "codemirror_mode": {
    "name": "ipython",
    "version": 3
   },
   "file_extension": ".py",
   "mimetype": "text/x-python",
   "name": "python",
   "nbconvert_exporter": "python",
   "pygments_lexer": "ipython3",
   "version": "3.12.4"
  }
 },
 "nbformat": 4,
 "nbformat_minor": 5
}
