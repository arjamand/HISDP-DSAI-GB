{
 "cells": [
  {
   "cell_type": "code",
   "execution_count": 64,
   "id": "b367ffe8-1e99-48db-a8a1-c222bfc7f54d",
   "metadata": {},
   "outputs": [
    {
     "name": "stdout",
     "output_type": "stream",
     "text": [
      "[1 2 3]\n",
      "<class 'numpy.ndarray'>\n",
      "int64\n"
     ]
    }
   ],
   "source": [
    "# we use numpy to wwork with complex mathematical problem data manipulation / processsing and arrays \n",
    "import numpy as np # np = nickname/alias\n",
    "arr1 = np.array([1,2,3])\n",
    "\n",
    "# 1d arrays\n",
    "print(arr1)\n",
    "print(type(arr1))\n",
    "print(arr1.dtype)"
   ]
  },
  {
   "cell_type": "code",
   "execution_count": 65,
   "id": "66baa79a-517f-40df-9296-e89414e6157b",
   "metadata": {},
   "outputs": [
    {
     "name": "stdout",
     "output_type": "stream",
     "text": [
      "2.0\n"
     ]
    }
   ],
   "source": [
    "print(arr1.mean())"
   ]
  },
  {
   "cell_type": "code",
   "execution_count": 73,
   "id": "6c8d6a26-a887-4134-917a-66f2eba137c9",
   "metadata": {},
   "outputs": [
    {
     "name": "stdout",
     "output_type": "stream",
     "text": [
      "1\n"
     ]
    }
   ],
   "source": [
    "print(arr1.min())\n"
   ]
  },
  {
   "cell_type": "code",
   "execution_count": 74,
   "id": "fd44c46b-8580-4269-a68f-a125bf82cbc0",
   "metadata": {},
   "outputs": [
    {
     "name": "stdout",
     "output_type": "stream",
     "text": [
      "3\n"
     ]
    }
   ],
   "source": [
    "print(arr1.max())"
   ]
  },
  {
   "cell_type": "code",
   "execution_count": 66,
   "id": "50dfa503-5afd-4cc9-b944-e702077ab907",
   "metadata": {},
   "outputs": [
    {
     "name": "stdout",
     "output_type": "stream",
     "text": [
      "[[1 2 3]\n",
      " [4 5 6]]\n",
      "<class 'numpy.ndarray'>\n"
     ]
    }
   ],
   "source": [
    "#2d arrays\n",
    "arr2 = np.array([[1,2,3],[4,5,6]])\n",
    "print(arr2)\n",
    "print(type(arr2))"
   ]
  },
  {
   "cell_type": "code",
   "execution_count": 67,
   "id": "6e35f7d1-f334-4211-afea-ef3ae71eb6af",
   "metadata": {},
   "outputs": [
    {
     "name": "stdout",
     "output_type": "stream",
     "text": [
      "[[1 2 3 4 5 6]]\n"
     ]
    }
   ],
   "source": [
    "arr1_reshape = np.reshape(arr2, (1,6))\n",
    "print(arr1_reshape)"
   ]
  },
  {
   "cell_type": "code",
   "execution_count": 3,
   "id": "ba7568a4-7eca-4aa5-aaf2-89f414112811",
   "metadata": {},
   "outputs": [
    {
     "name": "stdout",
     "output_type": "stream",
     "text": [
      "[50  2  3]\n"
     ]
    }
   ],
   "source": [
    "#accessing item in an array\n",
    "arr1[0] = 50\n",
    "print(arr1)"
   ]
  },
  {
   "cell_type": "code",
   "execution_count": 4,
   "id": "e7a444bc-0cec-4d25-bec6-9fe047565c5c",
   "metadata": {},
   "outputs": [
    {
     "data": {
      "text/plain": [
       "array([50,  2,  3])"
      ]
     },
     "execution_count": 4,
     "metadata": {},
     "output_type": "execute_result"
    }
   ],
   "source": [
    "arr1"
   ]
  },
  {
   "cell_type": "code",
   "execution_count": 5,
   "id": "43f0cdb8-422c-415a-9c15-959955bd5d7b",
   "metadata": {},
   "outputs": [
    {
     "name": "stdout",
     "output_type": "stream",
     "text": [
      "[50  2]\n"
     ]
    }
   ],
   "source": [
    "# list slicing\n",
    "print(arr1[0:2])"
   ]
  },
  {
   "cell_type": "code",
   "execution_count": 6,
   "id": "f206f11f-6c1f-44e8-9e89-30cc1dc47dd7",
   "metadata": {},
   "outputs": [
    {
     "name": "stdout",
     "output_type": "stream",
     "text": [
      "[50  2  3]\n",
      "[50 33 44]\n"
     ]
    }
   ],
   "source": [
    "print(arr1)\n",
    "arr1[1:3] = 33, 44\n",
    "print(arr1)"
   ]
  },
  {
   "cell_type": "code",
   "execution_count": 7,
   "id": "8ccc2b3e-fe8c-473a-8dda-5a32fbb60aeb",
   "metadata": {},
   "outputs": [
    {
     "name": "stdout",
     "output_type": "stream",
     "text": [
      "[33]\n"
     ]
    }
   ],
   "source": [
    "select = [1]\n",
    "print(arr1[select])"
   ]
  },
  {
   "cell_type": "code",
   "execution_count": 8,
   "id": "80a6f41b-2222-4787-a70c-8f9bb0a7514e",
   "metadata": {},
   "outputs": [
    {
     "name": "stdout",
     "output_type": "stream",
     "text": [
      "3\n"
     ]
    }
   ],
   "source": [
    "print(arr1.size)"
   ]
  },
  {
   "cell_type": "code",
   "execution_count": 9,
   "id": "9ac9e8fc-c266-4831-860f-3968632fbb4e",
   "metadata": {},
   "outputs": [
    {
     "name": "stdout",
     "output_type": "stream",
     "text": [
      "6\n"
     ]
    }
   ],
   "source": [
    "print(arr2.size)"
   ]
  },
  {
   "cell_type": "code",
   "execution_count": 10,
   "id": "5ee3fd0c-f79e-43c6-bc50-d481e6854ebf",
   "metadata": {},
   "outputs": [
    {
     "name": "stdout",
     "output_type": "stream",
     "text": [
      "(3,)\n",
      "(2, 3)\n"
     ]
    }
   ],
   "source": [
    "print(arr1.shape)\n",
    "print(arr2.shape)"
   ]
  },
  {
   "cell_type": "code",
   "execution_count": 11,
   "id": "db89cd53-15d2-4646-90af-5235bc96a7f0",
   "metadata": {},
   "outputs": [
    {
     "name": "stdout",
     "output_type": "stream",
     "text": [
      "1\n",
      "2\n"
     ]
    }
   ],
   "source": [
    "print(arr1.ndim)\n",
    "print(arr2.ndim)"
   ]
  },
  {
   "cell_type": "code",
   "execution_count": 12,
   "id": "58f0366b-be18-43c1-8f57-c502f7ccde67",
   "metadata": {},
   "outputs": [
    {
     "name": "stdout",
     "output_type": "stream",
     "text": [
      "[[1. 1. 1. 1. 1. 1. 1. 1.]\n",
      " [1. 1. 1. 1. 1. 1. 1. 1.]\n",
      " [1. 1. 1. 1. 1. 1. 1. 1.]\n",
      " [1. 1. 1. 1. 1. 1. 1. 1.]\n",
      " [1. 1. 1. 1. 1. 1. 1. 1.]]\n"
     ]
    }
   ],
   "source": [
    "arr3 = np.ones((5,8))\n",
    "print(arr3)"
   ]
  },
  {
   "cell_type": "code",
   "execution_count": 13,
   "id": "d0e86774-aba3-4457-b460-49f381b2275f",
   "metadata": {},
   "outputs": [
    {
     "name": "stdout",
     "output_type": "stream",
     "text": [
      "[[1. 0. 0. 0. 0.]\n",
      " [0. 1. 0. 0. 0.]\n",
      " [0. 0. 1. 0. 0.]\n",
      " [0. 0. 0. 1. 0.]\n",
      " [0. 0. 0. 0. 1.]]\n"
     ]
    }
   ],
   "source": [
    "arr4 = np.eye(5)\n",
    "print(arr4)"
   ]
  },
  {
   "cell_type": "code",
   "execution_count": 14,
   "id": "f16f7541-be5c-4bce-8cfe-9d225800a740",
   "metadata": {},
   "outputs": [
    {
     "name": "stdout",
     "output_type": "stream",
     "text": [
      "[[0. 0. 0. 0. 0. 0. 0. 0.]\n",
      " [0. 0. 0. 0. 0. 0. 0. 0.]\n",
      " [0. 0. 0. 0. 0. 0. 0. 0.]\n",
      " [0. 0. 0. 0. 0. 0. 0. 0.]\n",
      " [0. 0. 0. 0. 0. 0. 0. 0.]]\n"
     ]
    }
   ],
   "source": [
    "arr5 = np.zeros((5,8))\n",
    "print(arr5)"
   ]
  },
  {
   "cell_type": "code",
   "execution_count": 15,
   "id": "6b1abe19-97cb-45d0-bf2e-6b2fd37e22d0",
   "metadata": {},
   "outputs": [
    {
     "name": "stdout",
     "output_type": "stream",
     "text": [
      "[[2. 3. 4. 5.]\n",
      " [2. 3. 1. 2.]\n",
      " [5. 4. 5. 6.]]\n"
     ]
    }
   ],
   "source": [
    "arr6 = np.array([[2,3,4,5],[2,3,1,2],[5,4,5,6]], dtype = 'float64')\n",
    "print(arr6)"
   ]
  },
  {
   "cell_type": "code",
   "execution_count": 16,
   "id": "039a1620-d1c8-4fbc-a840-27996142783a",
   "metadata": {},
   "outputs": [
    {
     "name": "stdout",
     "output_type": "stream",
     "text": [
      "float64\n"
     ]
    }
   ],
   "source": [
    "print(arr6.dtype)"
   ]
  },
  {
   "cell_type": "code",
   "execution_count": 17,
   "id": "5c4b5311-4ee3-4dbb-88c4-133cf8653b28",
   "metadata": {},
   "outputs": [
    {
     "name": "stdout",
     "output_type": "stream",
     "text": [
      "4.0\n"
     ]
    }
   ],
   "source": [
    "print(arr6[0,2])"
   ]
  },
  {
   "cell_type": "code",
   "execution_count": 18,
   "id": "2417c3e9-52a7-4016-9d2d-7eaca8c634a3",
   "metadata": {},
   "outputs": [
    {
     "name": "stdout",
     "output_type": "stream",
     "text": [
      "[[2. 3. 4.]\n",
      " [2. 3. 1.]\n",
      " [5. 4. 5.]]\n"
     ]
    }
   ],
   "source": [
    "print(arr6[0:,:3])"
   ]
  },
  {
   "cell_type": "code",
   "execution_count": 19,
   "id": "d83b75a4-3da8-4c6b-8807-50be57feec47",
   "metadata": {},
   "outputs": [
    {
     "name": "stdout",
     "output_type": "stream",
     "text": [
      "2\n"
     ]
    }
   ],
   "source": [
    "print(arr5.ndim)"
   ]
  },
  {
   "cell_type": "code",
   "execution_count": 21,
   "id": "9de3868a-fdf1-40b6-ae64-1904fe7eabc4",
   "metadata": {},
   "outputs": [
    {
     "data": {
      "text/plain": [
       "numpy.ndarray"
      ]
     },
     "execution_count": 21,
     "metadata": {},
     "output_type": "execute_result"
    }
   ],
   "source": [
    "type(arr5)"
   ]
  },
  {
   "cell_type": "code",
   "execution_count": 22,
   "id": "94acc77f-cb98-4668-a865-25a23c997924",
   "metadata": {},
   "outputs": [
    {
     "data": {
      "text/plain": [
       "dtype('float64')"
      ]
     },
     "execution_count": 22,
     "metadata": {},
     "output_type": "execute_result"
    }
   ],
   "source": [
    "arr5.dtype"
   ]
  },
  {
   "cell_type": "code",
   "execution_count": 69,
   "id": "49ce4c27-63ee-4bf0-91d2-1a03dfeb7e70",
   "metadata": {},
   "outputs": [],
   "source": [
    "arr6 = np.array([\"a\",\"b\",\"c\",\"d\"], dtype = \"str\")"
   ]
  },
  {
   "cell_type": "code",
   "execution_count": 70,
   "id": "c057c92d-1b45-4aaf-b162-86cfcf4ad57b",
   "metadata": {},
   "outputs": [
    {
     "name": "stdout",
     "output_type": "stream",
     "text": [
      "['b' 'b' 'c' 'd']\n"
     ]
    }
   ],
   "source": [
    "arr6[0] = \"bcd\"\n",
    "print(arr6)"
   ]
  },
  {
   "cell_type": "code",
   "execution_count": 39,
   "id": "25a794c6-a6a1-4584-838f-2637197063a9",
   "metadata": {},
   "outputs": [
    {
     "name": "stdout",
     "output_type": "stream",
     "text": [
      "[['Roll No' 'Name']\n",
      " ['GBAI 1' 'ALi']\n",
      " ['GBAI 2' 'Ahmed']]\n"
     ]
    }
   ],
   "source": [
    "arr7 = np.array([[\"Roll No\",\"Name\"],[\"GBAI 1\", \"ALi\"], [\"GBAI 2\", \"Ahmed\"] ])\n",
    "print(arr7)"
   ]
  },
  {
   "cell_type": "code",
   "execution_count": 54,
   "id": "e211a53c-f31a-481c-935c-10184bd914d3",
   "metadata": {},
   "outputs": [
    {
     "data": {
      "text/plain": [
       "dtype('<U7')"
      ]
     },
     "execution_count": 54,
     "metadata": {},
     "output_type": "execute_result"
    }
   ],
   "source": [
    "arr7.dtype"
   ]
  },
  {
   "cell_type": "code",
   "execution_count": 1,
   "id": "441643d6-1f8a-4719-acac-28a08407fce3",
   "metadata": {},
   "outputs": [
    {
     "name": "stdout",
     "output_type": "stream",
     "text": [
      "[1 2 3]\n"
     ]
    }
   ],
   "source": [
    "import numpy as np\n",
    "\n",
    "x_arr = np.array([1,2,3.23], dtype = \"int\")\n",
    "print(x_arr)"
   ]
  },
  {
   "cell_type": "code",
   "execution_count": 2,
   "id": "c389211e-93b1-41ba-ba1e-1c8ecf64bcde",
   "metadata": {},
   "outputs": [
    {
     "name": "stdout",
     "output_type": "stream",
     "text": [
      "[[2. 3. 4. 5.]\n",
      " [2. 3. 1. 2.]\n",
      " [5. 4. 5. 6.]]\n",
      "\n",
      " [[2. 3. 1. 2.]\n",
      " [5. 4. 5. 6.]]\n"
     ]
    }
   ],
   "source": [
    "arr6 = np.array([[2,3,4,5],[2,3,1,2],[5,4,5,6]], dtype = 'float64')\n",
    "print(arr6)\n",
    "print(\"\\n\",arr6[1:3, :4])"
   ]
  },
  {
   "cell_type": "code",
   "execution_count": 3,
   "id": "b1d0b648-670b-4a51-aef9-0513efecb986",
   "metadata": {},
   "outputs": [
    {
     "name": "stdout",
     "output_type": "stream",
     "text": [
      "[[1. 1. 1. 1. 1. 1. 1. 1.]\n",
      " [1. 1. 1. 1. 1. 1. 1. 1.]\n",
      " [1. 1. 1. 1. 1. 1. 1. 1.]\n",
      " [1. 1. 1. 1. 1. 1. 1. 1.]\n",
      " [1. 1. 1. 1. 1. 1. 1. 1.]]\n",
      "\n",
      "\n",
      "\n",
      "[[1. 1. 1. 1. 1. 1. 1. 1.]\n",
      " [1. 1. 1. 1. 1. 1. 1. 1.]]\n",
      "\n",
      "\n",
      "\n",
      "[[1. 1.]]\n"
     ]
    }
   ],
   "source": [
    "arr9 = np.ones((5,8))\n",
    "print(arr9)\n",
    "\n",
    "# first two rows \n",
    "print(\"\\n\\n\")\n",
    "print(arr9[:2 ])\n",
    "\n",
    "# last 2 elements\n",
    "print(\"\\n\\n\")\n",
    "print(arr9[4:,6:])\n",
    "\n"
   ]
  },
  {
   "cell_type": "code",
   "execution_count": 4,
   "id": "45c574a2-527d-44f2-bdc9-4b532800065a",
   "metadata": {},
   "outputs": [
    {
     "name": "stdout",
     "output_type": "stream",
     "text": [
      "[[2. 3. 4. 5.]\n",
      " [2. 3. 1. 2.]\n",
      " [5. 4. 5. 6.]]\n"
     ]
    }
   ],
   "source": [
    "arr10 = np.array([[2,3,4,5],[2,3,1,2],[5,4,5,6]], dtype = 'float64')\n",
    "print(arr6)"
   ]
  },
  {
   "cell_type": "code",
   "execution_count": 5,
   "id": "f81a302c-fc8c-41af-a626-68baa86a3820",
   "metadata": {},
   "outputs": [
    {
     "name": "stdout",
     "output_type": "stream",
     "text": [
      "max :  6.0\n",
      "location :  11\n"
     ]
    }
   ],
   "source": [
    "print(\"max : \",arr10.max())\n",
    "print(\"location : \", arr10.argmax())"
   ]
  },
  {
   "cell_type": "code",
   "execution_count": 6,
   "id": "2be0696f-65b7-4da0-9ec3-2225eeb7ba84",
   "metadata": {},
   "outputs": [
    {
     "name": "stdout",
     "output_type": "stream",
     "text": [
      "min :  1.0\n",
      "location :  6\n"
     ]
    }
   ],
   "source": [
    "print(\"min : \",arr10.min())\n",
    "print(\"location : \", arr10.argmin())"
   ]
  },
  {
   "cell_type": "code",
   "execution_count": 7,
   "id": "09e363f9-1bb8-4d99-93f8-7168fbfdce68",
   "metadata": {},
   "outputs": [
    {
     "name": "stdout",
     "output_type": "stream",
     "text": [
      "[1 2 3 4 5 5 4 3 2 1]\n",
      "[5 8 9 8 5]\n",
      "[ 5 10 15 20 25 25 20 15 10  5]\n"
     ]
    }
   ],
   "source": [
    "arr11 = np.array([1,2,3,4,5])\n",
    "arr12 = np.array([5,4,3,2,1])\n",
    "arr13 = np.concatenate((arr11,arr12))\n",
    "print(arr13)\n",
    "print(arr11 * arr12)\n",
    "print(5 * arr13)"
   ]
  },
  {
   "cell_type": "code",
   "execution_count": 8,
   "id": "be6173b7-220a-4e0a-84f5-ff8541551004",
   "metadata": {},
   "outputs": [
    {
     "name": "stdout",
     "output_type": "stream",
     "text": [
      "35\n"
     ]
    }
   ],
   "source": [
    "print(np.dot(arr11,arr12))"
   ]
  },
  {
   "cell_type": "code",
   "execution_count": 9,
   "id": "8d76ca94-75a9-4c0b-a152-fc6f7ff08220",
   "metadata": {},
   "outputs": [
    {
     "name": "stdout",
     "output_type": "stream",
     "text": [
      "3.141592653589793\n"
     ]
    }
   ],
   "source": [
    "print(np.pi)"
   ]
  },
  {
   "cell_type": "code",
   "execution_count": 12,
   "id": "120be7f6-fc32-4324-bbac-3fad06014c40",
   "metadata": {},
   "outputs": [
    {
     "name": "stdout",
     "output_type": "stream",
     "text": [
      "[1.         1.03517588 1.07035176 1.10552764 1.14070352 1.1758794\n",
      " 1.21105528 1.24623116 1.28140704 1.31658291 1.35175879 1.38693467\n",
      " 1.42211055 1.45728643 1.49246231 1.52763819 1.56281407 1.59798995\n",
      " 1.63316583 1.66834171 1.70351759 1.73869347 1.77386935 1.80904523\n",
      " 1.84422111 1.87939698 1.91457286 1.94974874 1.98492462 2.0201005\n",
      " 2.05527638 2.09045226 2.12562814 2.16080402 2.1959799  2.23115578\n",
      " 2.26633166 2.30150754 2.33668342 2.3718593  2.40703518 2.44221106\n",
      " 2.47738693 2.51256281 2.54773869 2.58291457 2.61809045 2.65326633\n",
      " 2.68844221 2.72361809 2.75879397 2.79396985 2.82914573 2.86432161\n",
      " 2.89949749 2.93467337 2.96984925 3.00502513 3.04020101 3.07537688\n",
      " 3.11055276 3.14572864 3.18090452 3.2160804  3.25125628 3.28643216\n",
      " 3.32160804 3.35678392 3.3919598  3.42713568 3.46231156 3.49748744\n",
      " 3.53266332 3.5678392  3.60301508 3.63819095 3.67336683 3.70854271\n",
      " 3.74371859 3.77889447 3.81407035 3.84924623 3.88442211 3.91959799\n",
      " 3.95477387 3.98994975 4.02512563 4.06030151 4.09547739 4.13065327\n",
      " 4.16582915 4.20100503 4.2361809  4.27135678 4.30653266 4.34170854\n",
      " 4.37688442 4.4120603  4.44723618 4.48241206 4.51758794 4.55276382\n",
      " 4.5879397  4.62311558 4.65829146 4.69346734 4.72864322 4.7638191\n",
      " 4.79899497 4.83417085 4.86934673 4.90452261 4.93969849 4.97487437\n",
      " 5.01005025 5.04522613 5.08040201 5.11557789 5.15075377 5.18592965\n",
      " 5.22110553 5.25628141 5.29145729 5.32663317 5.36180905 5.39698492\n",
      " 5.4321608  5.46733668 5.50251256 5.53768844 5.57286432 5.6080402\n",
      " 5.64321608 5.67839196 5.71356784 5.74874372 5.7839196  5.81909548\n",
      " 5.85427136 5.88944724 5.92462312 5.95979899 5.99497487 6.03015075\n",
      " 6.06532663 6.10050251 6.13567839 6.17085427 6.20603015 6.24120603\n",
      " 6.27638191 6.31155779 6.34673367 6.38190955 6.41708543 6.45226131\n",
      " 6.48743719 6.52261307 6.55778894 6.59296482 6.6281407  6.66331658\n",
      " 6.69849246 6.73366834 6.76884422 6.8040201  6.83919598 6.87437186\n",
      " 6.90954774 6.94472362 6.9798995  7.01507538 7.05025126 7.08542714\n",
      " 7.12060302 7.15577889 7.19095477 7.22613065 7.26130653 7.29648241\n",
      " 7.33165829 7.36683417 7.40201005 7.43718593 7.47236181 7.50753769\n",
      " 7.54271357 7.57788945 7.61306533 7.64824121 7.68341709 7.71859296\n",
      " 7.75376884 7.78894472 7.8241206  7.85929648 7.89447236 7.92964824\n",
      " 7.96482412 8.        ]\n"
     ]
    }
   ],
   "source": [
    "# arr14 = 5 * arr13\n",
    "# print(arr14)\n",
    "print(np.linspace(1,8,200))"
   ]
  },
  {
   "cell_type": "code",
   "execution_count": null,
   "id": "e0783f6f-76c4-40df-bebd-c86f93ea97db",
   "metadata": {},
   "outputs": [],
   "source": []
  }
 ],
 "metadata": {
  "kernelspec": {
   "display_name": "Python 3 (ipykernel)",
   "language": "python",
   "name": "python3"
  },
  "language_info": {
   "codemirror_mode": {
    "name": "ipython",
    "version": 3
   },
   "file_extension": ".py",
   "mimetype": "text/x-python",
   "name": "python",
   "nbconvert_exporter": "python",
   "pygments_lexer": "ipython3",
   "version": "3.12.4"
  }
 },
 "nbformat": 4,
 "nbformat_minor": 5
}
