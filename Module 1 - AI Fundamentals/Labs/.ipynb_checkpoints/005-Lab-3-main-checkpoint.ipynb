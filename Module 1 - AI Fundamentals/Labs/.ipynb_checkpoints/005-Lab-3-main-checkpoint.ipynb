{
 "cells": [
  {
   "cell_type": "markdown",
   "id": "6de11ac7-a52f-4fa3-b7b7-e900aab6e037",
   "metadata": {},
   "source": [
    "### Using only the programming techniques that you have learned so far, perform the following tasks:\n",
    "#### Task 1: Write a program that asks the user about the number of values he/she wants to enter. Than enter the values as per the required number, calculate its sum and identify the smallest value among them. The sample output is as follow:\n",
    "```\n",
    "Enter the number of values to be input: 5\n",
    "Enter the number: 20\n",
    "Enter the number: 10\n",
    "Enter the number: 50\n",
    "Enter the number: 4\n",
    "Enter the number: 65\n",
    "The sum is: 149\n",
    "The smallest value of entered numbers is 4"
   ]
  },
  {
   "cell_type": "code",
   "execution_count": 9,
   "id": "d30b7a4d-f65f-4379-a88e-1b92084b7e0e",
   "metadata": {},
   "outputs": [
    {
     "name": "stdin",
     "output_type": "stream",
     "text": [
      "Enter the number of values to be input:  5\n",
      "Enter the number:  20\n",
      "Enter the number:  10\n",
      "Enter the number:  50\n",
      "Enter the number:  4\n",
      "Enter the number:  65\n"
     ]
    },
    {
     "name": "stdout",
     "output_type": "stream",
     "text": [
      "The sum is : 149 \n",
      "The smallest value of entered numbers is 4\n"
     ]
    }
   ],
   "source": [
    "number_of_values = int(input(\"Enter the number of values to be input: \"))\n",
    "numbers = []\n",
    "sum = 0\n",
    "\n",
    "for i in range (number_of_values):\n",
    "    numbers.append(int(input(\"Enter the number: \")))\n",
    "\n",
    "smallest = numbers[0]\n",
    "\n",
    "for i in numbers:\n",
    "    sum += i\n",
    "    if i < smallest :\n",
    "        smallest = i\n",
    "        \n",
    "print(\"The sum is :\",sum, \"\\nThe smallest value of entered numbers is\",smallest)\n"
   ]
  },
  {
   "attachments": {
    "7821e195-aafd-46ac-aa1f-53390c2079da.png": {
     "image/png": "[encoded data removed]"
    }
   },
   "cell_type": "markdown",
   "id": "03cf3ef8-6478-4d21-8f2b-1f4d3b7b16a4",
   "metadata": {},
   "source": [
    "#### Task 2: The factorial function is used frequently in probability problems. The factorial of a positiveinteger n (written n! and pronounced “n factorial”) is equal to the product of the positive integers from 1 to n.Write a function factorial that accepts an integer as parameter and returns its factorial.Using the factorial function, write a program that evaluates the factorials of the integers from 1 to 5.Print the results in tabular format as following\n",
    "![image.png](attachment:7821e195-aafd-46ac-aa1f-53390c2079da.png)\n"
   ]
  },
  {
   "cell_type": "code",
   "execution_count": 12,
   "id": "13456c3e-b860-41ec-9195-03ef904a68c3",
   "metadata": {},
   "outputs": [
    {
     "name": "stdout",
     "output_type": "stream",
     "text": [
      "X\tFactorial of X\n",
      "1\t1\n",
      "2\t2\n",
      "3\t6\n",
      "4\t24\n",
      "5\t120\n"
     ]
    }
   ],
   "source": [
    "def factorial(n):\n",
    "    current_product = 1\n",
    "    print(f\"X\\tFactorial of X\")\n",
    "    for i in range(1,n+1):\n",
    "        current_product *= i\n",
    "        print(f\"{i}\\t{current_product}\")\n",
    "        \n",
    "factorial(5)"
   ]
  },
  {
   "cell_type": "markdown",
   "id": "248b163c-98ee-4293-9aae-7e4783354a97",
   "metadata": {},
   "source": [
    "#### Task 3: Write a program that plays an incredibly stupid number-guessing game. The user will try to guess the secret number until they get it right. That means it will keep looping as long as the guess is different from the secret number. You must store the secret number in a variable, and use that variable throughout. The secret number itself must not appear in the program at all, except in the one line where you store it into a variable. Sample output is as following: I have chosen a number between 1 and 10. Try to guess it.\n",
    "```\n",
    "Your guess: 5\n",
    "That is incorrect. Guess again.\n",
    "Your guess: 4\n",
    "That is incorrect. Guess again.\n",
    "Your guess: 8\n",
    "That is incorrect. Guess again.\n",
    "Your guess: 6\n",
    "That's right! You guessed it.\n"
   ]
  },
  {
   "cell_type": "code",
   "execution_count": 18,
   "id": "e246d312-7bf7-4195-90a6-fc8767e4a1e8",
   "metadata": {},
   "outputs": [
    {
     "name": "stdout",
     "output_type": "stream",
     "text": [
      "I have chosen a number between 1 and 10. Try to guess it.\n"
     ]
    },
    {
     "name": "stdin",
     "output_type": "stream",
     "text": [
      "Your guess: 1\n"
     ]
    },
    {
     "name": "stdout",
     "output_type": "stream",
     "text": [
      "That is incorrect. Guess again.\n"
     ]
    },
    {
     "name": "stdin",
     "output_type": "stream",
     "text": [
      "Your guess: 2\n"
     ]
    },
    {
     "name": "stdout",
     "output_type": "stream",
     "text": [
      "That is incorrect. Guess again.\n"
     ]
    },
    {
     "name": "stdin",
     "output_type": "stream",
     "text": [
      "Your guess: 4\n"
     ]
    },
    {
     "name": "stdout",
     "output_type": "stream",
     "text": [
      "That is incorrect. Guess again.\n"
     ]
    },
    {
     "name": "stdin",
     "output_type": "stream",
     "text": [
      "Your guess: 5\n"
     ]
    },
    {
     "name": "stdout",
     "output_type": "stream",
     "text": [
      "That is incorrect. Guess again.\n"
     ]
    },
    {
     "name": "stdin",
     "output_type": "stream",
     "text": [
      "Your guess: 7\n"
     ]
    },
    {
     "name": "stdout",
     "output_type": "stream",
     "text": [
      "That is incorrect. Guess again.\n"
     ]
    },
    {
     "name": "stdin",
     "output_type": "stream",
     "text": [
      "Your guess: 8\n"
     ]
    },
    {
     "name": "stdout",
     "output_type": "stream",
     "text": [
      "That is incorrect. Guess again.\n"
     ]
    },
    {
     "name": "stdin",
     "output_type": "stream",
     "text": [
      "Your guess: 9\n"
     ]
    },
    {
     "name": "stdout",
     "output_type": "stream",
     "text": [
      "That is incorrect. Guess again.\n"
     ]
    },
    {
     "name": "stdin",
     "output_type": "stream",
     "text": [
      "Your guess: 0\n"
     ]
    },
    {
     "name": "stdout",
     "output_type": "stream",
     "text": [
      "That's right! You guessed it.\n"
     ]
    }
   ],
   "source": [
    "from random import randint\n",
    "\n",
    "print(\"I have chosen a number between 0 and 10. Try to guess it.\")\n",
    "secret_number = randint(0,10)\n",
    "guess_number = int(input(\"Your guess:\"))\n",
    "\n",
    "while True :    \n",
    "    if guess_number == secret_number :\n",
    "        print(\"That's right! You guessed it.\")\n",
    "        break\n",
    "    else:\n",
    "        print(\"That is incorrect. Guess again.\")\n",
    "        guess_number = int(input(\"Your guess:\"))\n",
    "        \n",
    "        \n",
    "    "
   ]
  },
  {
   "attachments": {
    "e28bbe56-3b98-4531-8cbb-855692b415fa.png": {
     "image/png": "[encoded data removed]"
    }
   },
   "cell_type": "markdown",
   "id": "6daa1cd0-1675-46ff-b3bf-afc4329903c5",
   "metadata": {},
   "source": [
    "#### Task 4: The greatest common divisor (GCD) of two integers is the largest integer that evenly divides each of the two numbers. Write function gcd that returns the greatest common divisor of two integers. Use the gcd function in your program to determine the GCD of the numbers in the sample output:\n",
    "\n",
    "![image.png](attachment:e28bbe56-3b98-4531-8cbb-855692b415fa.png)\n"
   ]
  },
  {
   "cell_type": "code",
   "execution_count": 8,
   "id": "35949913-747d-48ce-997c-6e0cafb1d2bf",
   "metadata": {},
   "outputs": [
    {
     "name": "stdin",
     "output_type": "stream",
     "text": [
      "Enter two integers :  75 225\n"
     ]
    },
    {
     "name": "stdout",
     "output_type": "stream",
     "text": [
      "The greatest common divisor of 75 and 225 is 75\n"
     ]
    }
   ],
   "source": [
    "numbers = (input(\"Enter two integers : \")).split()\n",
    "num1 = int(numbers[0])\n",
    "num2 = int(numbers[1])\n",
    "gcd = 0 \n",
    "\n",
    "if num1 < num2:\n",
    "    for i in range(1,num1+1):\n",
    "        if num1 % i == 0 and num2 % i == 0 and i > gcd :\n",
    "            gcd = i\n",
    "else :\n",
    "    for i in range(1,num2+1):\n",
    "        if num1 % i == 0 and num2 % i == 0 and i > gcd :\n",
    "            gcd += i\n",
    "print(f\"The greatest common divisor of {num1} and {num2} is {gcd}\")\n",
    "    \n",
    "\n",
    "\n",
    "\n"
   ]
  },
  {
   "attachments": {
    "5e00112e-736e-4d0b-8381-68f475317898.png": {
     "image/png": "[encoded data removed]"
    }
   },
   "cell_type": "markdown",
   "id": "d59c943b-e948-4018-b30f-42862f5fdafc",
   "metadata": {},
   "source": [
    "#### Task 5: An integer is said to be prime if it is divisible only by 1 and itself. For example, 2, 3, 5 and 7 are prime, but 4, 6, 8 and 9 are not.\n",
    "a) Write a function that determines if a number is prime.\n",
    "\n",
    "b) Use this function in a program that determines and prints all the prime numbers between 1 and 10,000.\n",
    "\n",
    "![image.png](attachment:5e00112e-736e-4d0b-8381-68f475317898.png)\n"
   ]
  },
  {
   "cell_type": "code",
   "execution_count": 9,
   "id": "f6517868-f3f0-4bb7-86d2-e405ec226e34",
   "metadata": {},
   "outputs": [
    {
     "name": "stdout",
     "output_type": "stream",
     "text": [
      "The prime numbers from 1 to 10000 are : \n",
      "1 2 3 5 7 11 13 17 19 23 29 31 37 41 43 47 53 59 61 67 71 73 79 83 89 97 101 103 107 109 113 127 131 137 139 149 151 157 163 167 173 179 181 191 193 197 199 211 223 227 229 233 239 241 251 257 263 269 271 277 281 283 293 307 311 313 317 331 337 347 349 353 359 367 373 379 383 389 397 401 409 419 421 431 433 439 443 449 457 461 463 467 479 487 491 499 503 509 521 523 541 547 557 563 569 571 577 587 593 599 601 607 613 617 619 631 641 643 647 653 659 661 673 677 683 691 701 709 719 727 733 739 743 751 757 761 769 773 787 797 809 811 821 823 827 829 839 853 857 859 863 877 881 883 887 907 911 919 929 937 941 947 953 967 971 977 983 991 997 1009 1013 1019 1021 1031 1033 1039 1049 1051 1061 1063 1069 1087 1091 1093 1097 1103 1109 1117 1123 1129 1151 1153 1163 1171 1181 1187 1193 1201 1213 1217 1223 1229 1231 1237 1249 1259 1277 1279 1283 1289 1291 1297 1301 1303 1307 1319 1321 1327 1361 1367 1373 1381 1399 1409 1423 1427 1429 1433 1439 1447 1451 1453 1459 1471 1481 1483 1487 1489 1493 1499 1511 1523 1531 1543 1549 1553 1559 1567 1571 1579 1583 1597 1601 1607 1609 1613 1619 1621 1627 1637 1657 1663 1667 1669 1693 1697 1699 1709 1721 1723 1733 1741 1747 1753 1759 1777 1783 1787 1789 1801 1811 1823 1831 1847 1861 1867 1871 1873 1877 1879 1889 1901 1907 1913 1931 1933 1949 1951 1973 1979 1987 1993 1997 1999 2003 2011 2017 2027 2029 2039 2053 2063 2069 2081 2083 2087 2089 2099 2111 2113 2129 2131 2137 2141 2143 2153 2161 2179 2203 2207 2213 2221 2237 2239 2243 2251 2267 2269 2273 2281 2287 2293 2297 2309 2311 2333 2339 2341 2347 2351 2357 2371 2377 2381 2383 2389 2393 2399 2411 2417 2423 2437 2441 2447 2459 2467 2473 2477 2503 2521 2531 2539 2543 2549 2551 2557 2579 2591 2593 2609 2617 2621 2633 2647 2657 2659 2663 2671 2677 2683 2687 2689 2693 2699 2707 2711 2713 2719 2729 2731 2741 2749 2753 2767 2777 2789 2791 2797 2801 2803 2819 2833 2837 2843 2851 2857 2861 2879 2887 2897 2903 2909 2917 2927 2939 2953 2957 2963 2969 2971 2999 3001 3011 3019 3023 3037 3041 3049 3061 3067 3079 3083 3089 3109 3119 3121 3137 3163 3167 3169 3181 3187 3191 3203 3209 3217 3221 3229 3251 3253 3257 3259 3271 3299 3301 3307 3313 3319 3323 3329 3331 3343 3347 3359 3361 3371 3373 3389 3391 3407 3413 3433 3449 3457 3461 3463 3467 3469 3491 3499 3511 3517 3527 3529 3533 3539 3541 3547 3557 3559 3571 3581 3583 3593 3607 3613 3617 3623 3631 3637 3643 3659 3671 3673 3677 3691 3697 3701 3709 3719 3727 3733 3739 3761 3767 3769 3779 3793 3797 3803 3821 3823 3833 3847 3851 3853 3863 3877 3881 3889 3907 3911 3917 3919 3923 3929 3931 3943 3947 3967 3989 4001 4003 4007 4013 4019 4021 4027 4049 4051 4057 4073 4079 4091 4093 4099 4111 4127 4129 4133 4139 4153 4157 4159 4177 4201 4211 4217 4219 4229 4231 4241 4243 4253 4259 4261 4271 4273 4283 4289 4297 4327 4337 4339 4349 4357 4363 4373 4391 4397 4409 4421 4423 4441 4447 4451 4457 4463 4481 4483 4493 4507 4513 4517 4519 4523 4547 4549 4561 4567 4583 4591 4597 4603 4621 4637 4639 4643 4649 4651 4657 4663 4673 4679 4691 4703 4721 4723 4729 4733 4751 4759 4783 4787 4789 4793 4799 4801 4813 4817 4831 4861 4871 4877 4889 4903 4909 4919 4931 4933 4937 4943 4951 4957 4967 4969 4973 4987 4993 4999 5003 5009 5011 5021 5023 5039 5051 5059 5077 5081 5087 5099 5101 5107 5113 5119 5147 5153 5167 5171 5179 5189 5197 5209 5227 5231 5233 5237 5261 5273 5279 5281 5297 5303 5309 5323 5333 5347 5351 5381 5387 5393 5399 5407 5413 5417 5419 5431 5437 5441 5443 5449 5471 5477 5479 5483 5501 5503 5507 5519 5521 5527 5531 5557 5563 5569 5573 5581 5591 5623 5639 5641 5647 5651 5653 5657 5659 5669 5683 5689 5693 5701 5711 5717 5737 5741 5743 5749 5779 5783 5791 5801 5807 5813 5821 5827 5839 5843 5849 5851 5857 5861 5867 5869 5879 5881 5897 5903 5923 5927 5939 5953 5981 5987 6007 6011 6029 6037 6043 6047 6053 6067 6073 6079 6089 6091 6101 6113 6121 6131 6133 6143 6151 6163 6173 6197 6199 6203 6211 6217 6221 6229 6247 6257 6263 6269 6271 6277 6287 6299 6301 6311 6317 6323 6329 6337 6343 6353 6359 6361 6367 6373 6379 6389 6397 6421 6427 6449 6451 6469 6473 6481 6491 6521 6529 6547 6551 6553 6563 6569 6571 6577 6581 6599 6607 6619 6637 6653 6659 6661 6673 6679 6689 6691 6701 6703 6709 6719 6733 6737 6761 6763 6779 6781 6791 6793 6803 6823 6827 6829 6833 6841 6857 6863 6869 6871 6883 6899 6907 6911 6917 6947 6949 6959 6961 6967 6971 6977 6983 6991 6997 7001 7013 7019 7027 7039 7043 7057 7069 7079 7103 7109 7121 7127 7129 7151 7159 7177 7187 7193 7207 7211 7213 7219 7229 7237 7243 7247 7253 7283 7297 7307 7309 7321 7331 7333 7349 7351 7369 7393 7411 7417 7433 7451 7457 7459 7477 7481 7487 7489 7499 7507 7517 7523 7529 7537 7541 7547 7549 7559 7561 7573 7577 7583 7589 7591 7603 7607 7621 7639 7643 7649 7669 7673 7681 7687 7691 7699 7703 7717 7723 7727 7741 7753 7757 7759 7789 7793 7817 7823 7829 7841 7853 7867 7873 7877 7879 7883 7901 7907 7919 7927 7933 7937 7949 7951 7963 7993 8009 8011 8017 8039 8053 8059 8069 8081 8087 8089 8093 8101 8111 8117 8123 8147 8161 8167 8171 8179 8191 8209 8219 8221 8231 8233 8237 8243 8263 8269 8273 8287 8291 8293 8297 8311 8317 8329 8353 8363 8369 8377 8387 8389 8419 8423 8429 8431 8443 8447 8461 8467 8501 8513 8521 8527 8537 8539 8543 8563 8573 8581 8597 8599 8609 8623 8627 8629 8641 8647 8663 8669 8677 8681 8689 8693 8699 8707 8713 8719 8731 8737 8741 8747 8753 8761 8779 8783 8803 8807 8819 8821 8831 8837 8839 8849 8861 8863 8867 8887 8893 8923 8929 8933 8941 8951 8963 8969 8971 8999 9001 9007 9011 9013 9029 9041 9043 9049 9059 9067 9091 9103 9109 9127 9133 9137 9151 9157 9161 9173 9181 9187 9199 9203 9209 9221 9227 9239 9241 9257 9277 9281 9283 9293 9311 9319 9323 9337 9341 9343 9349 9371 9377 9391 9397 9403 9413 9419 9421 9431 9433 9437 9439 9461 9463 9467 9473 9479 9491 9497 9511 9521 9533 9539 9547 9551 9587 9601 9613 9619 9623 9629 9631 9643 9649 9661 9677 9679 9689 9697 9719 9721 9733 9739 9743 9749 9767 9769 9781 9787 9791 9803 9811 9817 9829 9833 9839 9851 9857 9859 9871 9883 9887 9901 9907 9923 9929 9931 9941 9949 9967 9973\n"
     ]
    }
   ],
   "source": [
    "print(\"The prime numbers from 1 to 10000 are : \")\n",
    "primes = []\n",
    "for n in range(1,10001):\n",
    "    temp_list = []\n",
    "    for i in range(2, n-1):  \n",
    "        if (n % i) == 0 :\n",
    "            temp_list.append(i) \n",
    "    if len(temp_list) == 0 :\n",
    "        primes.append(n)\n",
    "\n",
    "print(*primes)\n",
    "        \n",
    "           "
   ]
  },
  {
   "attachments": {
    "46b566fc-7ed0-4d70-b742-a496d82238cc.png": {
     "image/png": "[encoded data removed]"
    }
   },
   "cell_type": "markdown",
   "id": "4d1c222f-a701-4c7e-85cf-549531caa14e",
   "metadata": {},
   "source": [
    "#### Task 7: Write a program that outputs 100 lines, numbered 1 to 100, each with your name on it. The output should look like the output below:\n",
    "![image.png](attachment:46b566fc-7ed0-4d70-b742-a496d82238cc.png)"
   ]
  },
  {
   "cell_type": "code",
   "execution_count": 10,
   "id": "a302db69-b4a7-4db4-9ac8-c2be202004e8",
   "metadata": {},
   "outputs": [
    {
     "name": "stdout",
     "output_type": "stream",
     "text": [
      "1 Arjamand Ali\n",
      "2 Arjamand Ali\n",
      "3 Arjamand Ali\n",
      "4 Arjamand Ali\n",
      "5 Arjamand Ali\n",
      "6 Arjamand Ali\n",
      "7 Arjamand Ali\n",
      "8 Arjamand Ali\n",
      "9 Arjamand Ali\n",
      "10 Arjamand Ali\n",
      "11 Arjamand Ali\n",
      "12 Arjamand Ali\n",
      "13 Arjamand Ali\n",
      "14 Arjamand Ali\n",
      "15 Arjamand Ali\n",
      "16 Arjamand Ali\n",
      "17 Arjamand Ali\n",
      "18 Arjamand Ali\n",
      "19 Arjamand Ali\n",
      "20 Arjamand Ali\n",
      "21 Arjamand Ali\n",
      "22 Arjamand Ali\n",
      "23 Arjamand Ali\n",
      "24 Arjamand Ali\n",
      "25 Arjamand Ali\n",
      "26 Arjamand Ali\n",
      "27 Arjamand Ali\n",
      "28 Arjamand Ali\n",
      "29 Arjamand Ali\n",
      "30 Arjamand Ali\n",
      "31 Arjamand Ali\n",
      "32 Arjamand Ali\n",
      "33 Arjamand Ali\n",
      "34 Arjamand Ali\n",
      "35 Arjamand Ali\n",
      "36 Arjamand Ali\n",
      "37 Arjamand Ali\n",
      "38 Arjamand Ali\n",
      "39 Arjamand Ali\n",
      "40 Arjamand Ali\n",
      "41 Arjamand Ali\n",
      "42 Arjamand Ali\n",
      "43 Arjamand Ali\n",
      "44 Arjamand Ali\n",
      "45 Arjamand Ali\n",
      "46 Arjamand Ali\n",
      "47 Arjamand Ali\n",
      "48 Arjamand Ali\n",
      "49 Arjamand Ali\n",
      "50 Arjamand Ali\n",
      "51 Arjamand Ali\n",
      "52 Arjamand Ali\n",
      "53 Arjamand Ali\n",
      "54 Arjamand Ali\n",
      "55 Arjamand Ali\n",
      "56 Arjamand Ali\n",
      "57 Arjamand Ali\n",
      "58 Arjamand Ali\n",
      "59 Arjamand Ali\n",
      "60 Arjamand Ali\n",
      "61 Arjamand Ali\n",
      "62 Arjamand Ali\n",
      "63 Arjamand Ali\n",
      "64 Arjamand Ali\n",
      "65 Arjamand Ali\n",
      "66 Arjamand Ali\n",
      "67 Arjamand Ali\n",
      "68 Arjamand Ali\n",
      "69 Arjamand Ali\n",
      "70 Arjamand Ali\n",
      "71 Arjamand Ali\n",
      "72 Arjamand Ali\n",
      "73 Arjamand Ali\n",
      "74 Arjamand Ali\n",
      "75 Arjamand Ali\n",
      "76 Arjamand Ali\n",
      "77 Arjamand Ali\n",
      "78 Arjamand Ali\n",
      "79 Arjamand Ali\n",
      "80 Arjamand Ali\n",
      "81 Arjamand Ali\n",
      "82 Arjamand Ali\n",
      "83 Arjamand Ali\n",
      "84 Arjamand Ali\n",
      "85 Arjamand Ali\n",
      "86 Arjamand Ali\n",
      "87 Arjamand Ali\n",
      "88 Arjamand Ali\n",
      "89 Arjamand Ali\n",
      "90 Arjamand Ali\n",
      "91 Arjamand Ali\n",
      "92 Arjamand Ali\n",
      "93 Arjamand Ali\n",
      "94 Arjamand Ali\n",
      "95 Arjamand Ali\n",
      "96 Arjamand Ali\n",
      "97 Arjamand Ali\n",
      "98 Arjamand Ali\n",
      "99 Arjamand Ali\n",
      "100 Arjamand Ali\n"
     ]
    }
   ],
   "source": [
    "for i in range (1,101):\n",
    "    print(f\"{i} Arjamand Ali\")"
   ]
  },
  {
   "attachments": {
    "33c155a6-ba1b-456f-ba6a-ea3ed362b14f.png": {
     "image/png": "[encoded data removed]"
    }
   },
   "cell_type": "markdown",
   "id": "e4e83466-e43c-438f-bc1a-d0ce0ee1e990",
   "metadata": {},
   "source": [
    "#### Task 8: Write a program that prints out a list of the integers from 1 to 20 and their squares. The output should look like this:\n",
    "![image.png](attachment:33c155a6-ba1b-456f-ba6a-ea3ed362b14f.png)"
   ]
  },
  {
   "cell_type": "code",
   "execution_count": 11,
   "id": "75b5eb6f-18a8-47e0-998c-8792735d73fa",
   "metadata": {},
   "outputs": [
    {
     "name": "stdout",
     "output_type": "stream",
     "text": [
      "1 --- 1\n",
      "2 --- 4\n",
      "3 --- 9\n",
      "4 --- 16\n",
      "5 --- 25\n",
      "6 --- 36\n",
      "7 --- 49\n",
      "8 --- 64\n",
      "9 --- 81\n",
      "10 --- 100\n",
      "11 --- 121\n",
      "12 --- 144\n",
      "13 --- 169\n",
      "14 --- 196\n",
      "15 --- 225\n",
      "16 --- 256\n",
      "17 --- 289\n",
      "18 --- 324\n",
      "19 --- 361\n",
      "20 --- 400\n"
     ]
    }
   ],
   "source": [
    "for i in range(1,20+1):\n",
    "    print(f\"{i} --- {i**2}\")"
   ]
  },
  {
   "cell_type": "markdown",
   "id": "f4134d40-87d3-4e75-a8c7-f218a1b6ff63",
   "metadata": {},
   "source": [
    "#### Task 9: Write a program that uses a for loop to print the numbers 8, 11, 14, 17, 20, . . . , 83, 86, 89"
   ]
  },
  {
   "cell_type": "code",
   "execution_count": 12,
   "id": "b0c169c9-c14e-49d0-833d-810f5352647e",
   "metadata": {},
   "outputs": [
    {
     "name": "stdout",
     "output_type": "stream",
     "text": [
      "8\n",
      "11\n",
      "14\n",
      "17\n",
      "20\n",
      "23\n",
      "26\n",
      "29\n",
      "32\n",
      "35\n",
      "38\n",
      "41\n",
      "44\n",
      "47\n",
      "50\n",
      "53\n",
      "56\n",
      "59\n",
      "62\n",
      "65\n",
      "68\n",
      "71\n",
      "74\n",
      "77\n",
      "80\n",
      "83\n",
      "86\n",
      "89\n"
     ]
    }
   ],
   "source": [
    "for i in range (8,90,3):\n",
    "    print(i)"
   ]
  },
  {
   "cell_type": "markdown",
   "id": "e4bd75ec-11ca-4426-9eb0-6b4832664869",
   "metadata": {},
   "source": [
    "#### Task 10: Write a program that asks the user for their name and how many times to print it. The program should print out the user’s name the specified number of times.\n"
   ]
  },
  {
   "cell_type": "code",
   "execution_count": 13,
   "id": "aa0f3f50-f619-4b1b-aa57-199e7bef6298",
   "metadata": {},
   "outputs": [
    {
     "name": "stdin",
     "output_type": "stream",
     "text": [
      "Enter Your Name :  Ali\n",
      "How many times would you like to print it :  10\n"
     ]
    },
    {
     "name": "stdout",
     "output_type": "stream",
     "text": [
      "Ali\n",
      "Ali\n",
      "Ali\n",
      "Ali\n",
      "Ali\n",
      "Ali\n",
      "Ali\n",
      "Ali\n",
      "Ali\n",
      "Ali\n"
     ]
    }
   ],
   "source": [
    "name = input(\"Enter Your Name : \")\n",
    "number = int(input(\"How many times would you like to print it : \"))\n",
    "for i in range (number):\n",
    "    print(name)"
   ]
  },
  {
   "attachments": {
    "079d0c99-0b9e-4d6b-be39-e9d77a954f51.png": {
     "image/png": "[encoded data removed]"
    }
   },
   "cell_type": "markdown",
   "id": "5da047b9-a5cf-462e-8286-357ed25359b9",
   "metadata": {},
   "source": [
    "#### Task 11: Use a for loop to print a box like the one below. Allow the user to specify how wide and how high the box should be.\n",
    "![image.png](attachment:079d0c99-0b9e-4d6b-be39-e9d77a954f51.png)"
   ]
  },
  {
   "cell_type": "code",
   "execution_count": 17,
   "id": "0d03ded3-5ecc-4059-91ef-35194dd9a9a8",
   "metadata": {},
   "outputs": [
    {
     "name": "stdin",
     "output_type": "stream",
     "text": [
      "Enter Lenght of the box :  20\n",
      "Enter width of the box :  5\n"
     ]
    },
    {
     "name": "stdout",
     "output_type": "stream",
     "text": [
      "********************\n",
      "********************\n",
      "********************\n",
      "********************\n",
      "********************\n"
     ]
    }
   ],
   "source": [
    "lenght = int(input(\"Enter Lenght of the box : \"))\n",
    "width = int(input(\"Enter width of the box : \"))\n",
    "lenght_str = \"\"\n",
    "\n",
    "for i in range(lenght):\n",
    "    lenght_str += \"*\"\n",
    "\n",
    "for i in range(width):\n",
    "    print(lenght_str)\n"
   ]
  },
  {
   "attachments": {
    "f66da4db-3858-4ee7-9173-edaa152f5a10.png": {
     "image/png": "[encoded data removed]"
    }
   },
   "cell_type": "markdown",
   "id": "a0264e2a-e1f7-4c17-98df-ba8bd65f1b00",
   "metadata": {},
   "source": [
    "#### Task 12: Use a for loop to print a triangle like the one below. Allow the user to specify how high the triangle should be.\n",
    "![image.png](attachment:f66da4db-3858-4ee7-9173-edaa152f5a10.png)"
   ]
  },
  {
   "cell_type": "code",
   "execution_count": 19,
   "id": "81d92f61-a56c-4ab0-800b-b018a5114436",
   "metadata": {},
   "outputs": [
    {
     "name": "stdin",
     "output_type": "stream",
     "text": [
      "Enter height o the triangle :  8\n"
     ]
    },
    {
     "name": "stdout",
     "output_type": "stream",
     "text": [
      "*\n",
      "**\n",
      "***\n",
      "****\n",
      "*****\n",
      "******\n",
      "*******\n",
      "********\n"
     ]
    }
   ],
   "source": [
    "height = int(input(\"Enter height o the triangle : \"))\n",
    "temp_str = \"\"\n",
    "for i in range (height):\n",
    "    temp_str += \"*\"\n",
    "    print(temp_str)"
   ]
  },
  {
   "attachments": {
    "e2157d0d-f303-43a6-9b05-1ede7710bb12.png": {
     "image/png": "[encoded data removed]"
    }
   },
   "cell_type": "markdown",
   "id": "770e47d3-5467-416d-996d-b8de4a366468",
   "metadata": {},
   "source": [
    "#### Task 13: Use for loops to print a diamond like the one below. Allow the user to specify how high the diamond should be.\n",
    "![image.png](attachment:e2157d0d-f303-43a6-9b05-1ede7710bb12.png)"
   ]
  },
  {
   "cell_type": "code",
   "execution_count": 92,
   "id": "c75c221b-26d1-45f7-b82a-5f36e30255c6",
   "metadata": {},
   "outputs": [
    {
     "name": "stdin",
     "output_type": "stream",
     "text": [
      "Enter Height of the diamond :  4\n"
     ]
    },
    {
     "name": "stdout",
     "output_type": "stream",
     "text": [
      "    *\n",
      "   ***\n",
      "  *****\n",
      " *******\n",
      "*********\n",
      " *******\n",
      "  *****\n",
      "   ***\n",
      "    *\n"
     ]
    }
   ],
   "source": [
    "diamond_height = int(input(\"Enter Height of the diamond : \"))\n",
    "diamond_str = \"*\"\n",
    "diamond_spaces = \" \"*diamond_height\n",
    "\n",
    "for i in range(1,diamond_height+1):\n",
    "    print(f\"{diamond_spaces}{(diamond_str)}\")\n",
    "    diamond_str += \"**\"\n",
    "    diamond_spaces = diamond_spaces[:-1]\n",
    "    \n",
    "for i in range(1,diamond_height+2):\n",
    "    print(f\"{diamond_spaces}{(diamond_str)}\")\n",
    "    if len(diamond_str) <= 2 :\n",
    "        diamond_str = diamond_str[:-1]\n",
    "    else :\n",
    "        diamond_str = diamond_str[:-2]\n",
    "    diamond_spaces += \" \"        \n",
    "    \n",
    "\n",
    "                           "
   ]
  },
  {
   "attachments": {
    "baf65c9e-ec86-4123-8f71-fcbdeafaf1f8.png": {
     "image/png": "[encoded data removed]"
    }
   },
   "cell_type": "markdown",
   "id": "b036bfbe-78cf-422d-a88a-d0462aec68ce",
   "metadata": {},
   "source": [
    "#### Task 14: Write a program that prints a giant letter A like the one below. Allow the user to specify how large the letter should be\n",
    "![image.png](attachment:baf65c9e-ec86-4123-8f71-fcbdeafaf1f8.png)"
   ]
  },
  {
   "cell_type": "code",
   "execution_count": 37,
   "id": "bfee767e-30d8-496c-bd21-2509266340cd",
   "metadata": {},
   "outputs": [
    {
     "name": "stdin",
     "output_type": "stream",
     "text": [
      "Enter height of the letter :  5\n"
     ]
    },
    {
     "name": "stdout",
     "output_type": "stream",
     "text": [
      "     *\n",
      "    * *\n",
      "   *****\n",
      "  *     *\n",
      " *       *\n"
     ]
    }
   ],
   "source": [
    "height = int(input(\"Enter height of the letter : \"))\n",
    "# if (height % 2) != 0 :\n",
    "#     height += 1\n",
    "wspaces = \" \"*height\n",
    "wspaces2 = \"\"\n",
    "asterik = \"*\"\n",
    "\n",
    "for i in range(1,height+1):\n",
    "    if i == height//2 +1:\n",
    "        print(f\"{wspaces}{(asterik)}{asterik*(len(wspaces2))}{(asterik)}\")\n",
    "        wspaces2 += \" \"\n",
    "    elif i == 1 :\n",
    "        print(f\"{wspaces+\"\"}{(asterik)}\")\n",
    "    else :\n",
    "        print(f\"{wspaces}{(asterik)}{wspaces2}{(asterik)}\")\n",
    "        wspaces2 += \" \"\n",
    "    \n",
    "    wspaces = wspaces[:-1]\n",
    "    wspaces2 += \" \"\n",
    "\n",
    "    "
   ]
  },
  {
   "cell_type": "code",
   "execution_count": null,
   "id": "80296b40-fef4-477c-b07a-1dc91bc231da",
   "metadata": {},
   "outputs": [],
   "source": []
  }
 ],
 "metadata": {
  "kernelspec": {
   "display_name": "Python 3 (ipykernel)",
   "language": "python",
   "name": "python3"
  },
  "language_info": {
   "codemirror_mode": {
    "name": "ipython",
    "version": 3
   },
   "file_extension": ".py",
   "mimetype": "text/x-python",
   "name": "python",
   "nbconvert_exporter": "python",
   "pygments_lexer": "ipython3",
   "version": "3.12.4"
  }
 },
 "nbformat": 4,
 "nbformat_minor": 5
}
