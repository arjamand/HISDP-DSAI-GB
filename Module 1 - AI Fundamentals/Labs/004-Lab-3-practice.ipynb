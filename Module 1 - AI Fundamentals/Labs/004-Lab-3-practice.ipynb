{
 "cells": [
  {
   "cell_type": "markdown",
   "id": "9b77ad91-030d-4094-b624-634ec955327e",
   "metadata": {},
   "source": [
    "### Data Structures and Loops in python \n",
    "Creating and workin gwith different Data Structures \n",
    "\n",
    "#### Python Lists"
   ]
  },
  {
   "cell_type": "code",
   "execution_count": 6,
   "id": "bb1fe658-039a-4836-9f6e-46fd631d91d4",
   "metadata": {},
   "outputs": [
    {
     "name": "stdout",
     "output_type": "stream",
     "text": [
      "['apple', 'banana', 'cherry']\n"
     ]
    }
   ],
   "source": [
    "# python lists\n",
    "thislist = [\"apple\", \"banana\", \"cherry\"]\n",
    "print(thislist)"
   ]
  },
  {
   "cell_type": "code",
   "execution_count": 7,
   "id": "1c91222c-e829-4e34-a3e5-87aca3fa8c63",
   "metadata": {},
   "outputs": [
    {
     "name": "stdout",
     "output_type": "stream",
     "text": [
      "apple\n"
     ]
    }
   ],
   "source": [
    "print(thislist[0])"
   ]
  },
  {
   "cell_type": "code",
   "execution_count": 8,
   "id": "477874a4-ce38-4dfb-8104-6d5558bacc87",
   "metadata": {},
   "outputs": [
    {
     "data": {
      "text/plain": [
       "'cherry'"
      ]
     },
     "execution_count": 8,
     "metadata": {},
     "output_type": "execute_result"
    }
   ],
   "source": [
    "thislist[-1]"
   ]
  },
  {
   "cell_type": "code",
   "execution_count": 9,
   "id": "5fc690cc-1bfd-4f3b-a5bc-5f2c1ff0afc8",
   "metadata": {},
   "outputs": [
    {
     "data": {
      "text/plain": [
       "['apple', 'banana']"
      ]
     },
     "execution_count": 9,
     "metadata": {},
     "output_type": "execute_result"
    }
   ],
   "source": [
    "thislist[:2]"
   ]
  },
  {
   "cell_type": "code",
   "execution_count": 10,
   "id": "3e6101a4-300c-444e-bfdd-59a66fbb5ada",
   "metadata": {},
   "outputs": [
    {
     "data": {
      "text/plain": [
       "['banana', 'cherry']"
      ]
     },
     "execution_count": 10,
     "metadata": {},
     "output_type": "execute_result"
    }
   ],
   "source": [
    "thislist[1:]"
   ]
  },
  {
   "cell_type": "code",
   "execution_count": 11,
   "id": "df1d2ff9-03dd-4fe2-87c5-cef31b481425",
   "metadata": {},
   "outputs": [
    {
     "data": {
      "text/plain": [
       "['banana']"
      ]
     },
     "execution_count": 11,
     "metadata": {},
     "output_type": "execute_result"
    }
   ],
   "source": [
    "thislist[1:2]"
   ]
  },
  {
   "cell_type": "code",
   "execution_count": 12,
   "id": "6e645bd5-b083-4078-9644-7c7f69485e30",
   "metadata": {},
   "outputs": [
    {
     "data": {
      "text/plain": [
       "['apple', 'banana', 'cherry', 'dragon fruit']"
      ]
     },
     "execution_count": 12,
     "metadata": {},
     "output_type": "execute_result"
    }
   ],
   "source": [
    "thislist.append(\"dragon fruit\")\n",
    "thislist"
   ]
  },
  {
   "cell_type": "code",
   "execution_count": 13,
   "id": "9a52e5e0-4d70-455c-9af7-89d37e19dd70",
   "metadata": {},
   "outputs": [
    {
     "data": {
      "text/plain": [
       "['apple', 'banana', 'cherry']"
      ]
     },
     "execution_count": 13,
     "metadata": {},
     "output_type": "execute_result"
    }
   ],
   "source": [
    "thislist.remove(\"dragon fruit\")\n",
    "thislist\n",
    "                "
   ]
  },
  {
   "cell_type": "code",
   "execution_count": 14,
   "id": "b7ff43c5-4cc8-4b01-81c4-e05e47f81bde",
   "metadata": {},
   "outputs": [
    {
     "data": {
      "text/plain": [
       "['apple', 'banana', 'cherry', 'grapes']"
      ]
     },
     "execution_count": 14,
     "metadata": {},
     "output_type": "execute_result"
    }
   ],
   "source": [
    "thislist.insert(3, \"grapes\")\n",
    "thislist"
   ]
  },
  {
   "cell_type": "code",
   "execution_count": 15,
   "id": "a01f638f-49af-4b12-b526-d22a4ed6abb3",
   "metadata": {},
   "outputs": [
    {
     "data": {
      "text/plain": [
       "['apple', 'banana', 'cherry']"
      ]
     },
     "execution_count": 15,
     "metadata": {},
     "output_type": "execute_result"
    }
   ],
   "source": [
    "thislist.pop(3)\n",
    "thislist"
   ]
  },
  {
   "cell_type": "code",
   "execution_count": 16,
   "id": "7c9c3cdf-c7a8-4632-aeb5-235ca5b40c75",
   "metadata": {},
   "outputs": [
    {
     "data": {
      "text/plain": [
       "1"
      ]
     },
     "execution_count": 16,
     "metadata": {},
     "output_type": "execute_result"
    }
   ],
   "source": [
    "thislist.index(\"banana\")"
   ]
  },
  {
   "cell_type": "code",
   "execution_count": 37,
   "id": "2855d609-3c99-4743-81b8-cebf5be7447c",
   "metadata": {},
   "outputs": [
    {
     "name": "stdout",
     "output_type": "stream",
     "text": [
      "['apple', 'banana', 'cherry']\n"
     ]
    },
    {
     "data": {
      "text/plain": [
       "1"
      ]
     },
     "execution_count": 37,
     "metadata": {},
     "output_type": "execute_result"
    }
   ],
   "source": [
    "print(thislist)\n",
    "thislist.count(\"banana\")"
   ]
  },
  {
   "cell_type": "code",
   "execution_count": 38,
   "id": "c64ee848-4f43-4a63-8a67-11fcf4f73993",
   "metadata": {},
   "outputs": [
    {
     "name": "stdout",
     "output_type": "stream",
     "text": [
      "None\n"
     ]
    }
   ],
   "source": []
  },
  {
   "cell_type": "markdown",
   "id": "b6b934e1-bc60-45d0-a25a-9b5681de1267",
   "metadata": {},
   "source": [
    "#### Python Tuples"
   ]
  },
  {
   "cell_type": "code",
   "execution_count": 18,
   "id": "8f192d3b-a5a3-4143-9da0-4302dfa99ef8",
   "metadata": {},
   "outputs": [
    {
     "name": "stdout",
     "output_type": "stream",
     "text": [
      "('a', 'b', 'c')\n"
     ]
    }
   ],
   "source": [
    "thistuple = (\"a\", \"b\", \"c\")\n",
    "print(thistuple)"
   ]
  },
  {
   "cell_type": "code",
   "execution_count": 19,
   "id": "10b0adfe-f3b5-4d2e-9031-bb28c58a7465",
   "metadata": {},
   "outputs": [
    {
     "data": {
      "text/plain": [
       "'b'"
      ]
     },
     "execution_count": 19,
     "metadata": {},
     "output_type": "execute_result"
    }
   ],
   "source": [
    "thistuple[1]"
   ]
  },
  {
   "cell_type": "code",
   "execution_count": 20,
   "id": "cc1d640c-a4d1-4794-9ece-9c0bc22992c1",
   "metadata": {},
   "outputs": [
    {
     "data": {
      "text/plain": [
       "('c',)"
      ]
     },
     "execution_count": 20,
     "metadata": {},
     "output_type": "execute_result"
    }
   ],
   "source": [
    "thistuple[2:]"
   ]
  },
  {
   "cell_type": "code",
   "execution_count": 21,
   "id": "44a03e10-84f4-4c12-baa9-7f8b2e2ea61c",
   "metadata": {},
   "outputs": [
    {
     "data": {
      "text/plain": [
       "'c'"
      ]
     },
     "execution_count": 21,
     "metadata": {},
     "output_type": "execute_result"
    }
   ],
   "source": [
    "thistuple[-1]"
   ]
  },
  {
   "cell_type": "code",
   "execution_count": 22,
   "id": "71562b03-6f3e-4ff5-a4ce-b685d698b2a1",
   "metadata": {},
   "outputs": [
    {
     "data": {
      "text/plain": [
       "('a', 'b')"
      ]
     },
     "execution_count": 22,
     "metadata": {},
     "output_type": "execute_result"
    }
   ],
   "source": [
    "thistuple[-3:-1]"
   ]
  },
  {
   "cell_type": "markdown",
   "id": "007f8874-4ed2-4eb1-990b-0690836c167a",
   "metadata": {},
   "source": [
    "#### Python Sets"
   ]
  },
  {
   "cell_type": "code",
   "execution_count": 23,
   "id": "362c8489-84bd-458d-8e2e-88f991edb9fa",
   "metadata": {},
   "outputs": [
    {
     "name": "stdout",
     "output_type": "stream",
     "text": [
      "banana\n",
      "cherry\n",
      "apple\n"
     ]
    }
   ],
   "source": [
    "myset = {\"apple\", \"banana\", \"cherry\"} #unordered, unchangeable*, and unindexed\n",
    "for i in myset:\n",
    "    print(i)"
   ]
  },
  {
   "cell_type": "code",
   "execution_count": 24,
   "id": "c953e1c4-8250-43ce-8b99-5bf7ab115e97",
   "metadata": {},
   "outputs": [],
   "source": [
    "myset.add(\"grapes\")\n",
    "myset.add(\"mango\")"
   ]
  },
  {
   "cell_type": "code",
   "execution_count": 25,
   "id": "521ff385-bd3a-4b3c-bafb-1bb77b44cf36",
   "metadata": {},
   "outputs": [
    {
     "name": "stdout",
     "output_type": "stream",
     "text": [
      "{'grapes', 'banana', 'cherry', 'mango', 'apple'}\n"
     ]
    }
   ],
   "source": [
    "print(myset)"
   ]
  },
  {
   "cell_type": "code",
   "execution_count": 26,
   "id": "a4c4a88f-bcd9-48df-9b08-4f66130b040d",
   "metadata": {},
   "outputs": [
    {
     "name": "stdout",
     "output_type": "stream",
     "text": [
      "{'grapes', 'cherry', 'mango', 'apple'}\n"
     ]
    }
   ],
   "source": [
    "myset.remove(\"banana\")\n",
    "print(myset)"
   ]
  },
  {
   "cell_type": "markdown",
   "id": "d71d7d30-f571-4463-ab66-5b997d44c00e",
   "metadata": {},
   "source": [
    "#### Python Dictionaries"
   ]
  },
  {
   "cell_type": "code",
   "execution_count": 27,
   "id": "c4f16897-0ea2-41db-ab0d-147b29b3ba77",
   "metadata": {},
   "outputs": [
    {
     "name": "stdout",
     "output_type": "stream",
     "text": [
      "{'brand': 'Tesla', 'model': 'Y', 'year': 1196, 'color': 'Black'}\n"
     ]
    }
   ],
   "source": [
    "thisdict = {\n",
    "\"brand\": \"Tesla\",\n",
    "\"model\": \"Y\",\n",
    "\"year\": 1196,\n",
    "\"color\" : \"Black\"\n",
    "}\n",
    "print(thisdict)"
   ]
  },
  {
   "cell_type": "code",
   "execution_count": 28,
   "id": "d21a339d-715c-4e34-a222-888ea899c84c",
   "metadata": {},
   "outputs": [],
   "source": [
    "thisdict[\"color\"] = \"red\""
   ]
  },
  {
   "cell_type": "code",
   "execution_count": 29,
   "id": "96453bb9-354e-425c-9c5b-95a070816c2b",
   "metadata": {},
   "outputs": [
    {
     "name": "stdout",
     "output_type": "stream",
     "text": [
      "{'brand': 'Tesla', 'model': 'Y', 'year': 1196, 'color': 'red'}\n"
     ]
    }
   ],
   "source": [
    "print(thisdict)"
   ]
  },
  {
   "cell_type": "code",
   "execution_count": 30,
   "id": "8a6dc32a-f115-4aa4-88a5-3b1865f06869",
   "metadata": {},
   "outputs": [
    {
     "name": "stdout",
     "output_type": "stream",
     "text": [
      "{'brand': 'Tesla', 'model': 'Y', 'color': 'red'}\n"
     ]
    }
   ],
   "source": [
    "thisdict.pop(\"year\")\n",
    "print(thisdict)"
   ]
  },
  {
   "cell_type": "code",
   "execution_count": 31,
   "id": "5e0cfdd7-5ef3-41d1-823e-30b7be83c63c",
   "metadata": {},
   "outputs": [
    {
     "data": {
      "text/plain": [
       "'Tesla'"
      ]
     },
     "execution_count": 31,
     "metadata": {},
     "output_type": "execute_result"
    }
   ],
   "source": [
    "thisdict.get(\"brand\")"
   ]
  },
  {
   "cell_type": "markdown",
   "id": "4bf41284-cd5c-4176-bb75-c6dfa3eed54c",
   "metadata": {},
   "source": [
    "#### python For Loops"
   ]
  },
  {
   "cell_type": "code",
   "execution_count": 32,
   "id": "aeefd5f5-fac0-40a2-ba59-72d54fc389d0",
   "metadata": {},
   "outputs": [
    {
     "name": "stdout",
     "output_type": "stream",
     "text": [
      "Swift\n",
      "Python\n",
      "Go\n",
      "JavaScript\n"
     ]
    }
   ],
   "source": [
    "languages = ['Swift', 'Python', 'Go', 'JavaScript']\n",
    "for language in languages:\n",
    "    print(language)\n"
   ]
  },
  {
   "cell_type": "code",
   "execution_count": 33,
   "id": "2ffc2ef5-346e-4847-88a3-31e116685453",
   "metadata": {},
   "outputs": [
    {
     "name": "stdout",
     "output_type": "stream",
     "text": [
      "W\n",
      "h\n",
      "i\n",
      "l\n",
      "e\n",
      " \n",
      "l\n",
      "o\n",
      "o\n",
      "p\n",
      " \n",
      "i\n",
      "s\n",
      " \n",
      "t\n",
      "h\n",
      "e\n",
      " \n",
      "s\n",
      "i\n",
      "m\n",
      "p\n",
      "l\n",
      "e\n",
      "s\n",
      "t\n",
      " \n",
      "l\n",
      "o\n",
      "o\n",
      "p\n"
     ]
    }
   ],
   "source": [
    "str1 = \"While loop is the simplest loop\"\n",
    "for i in str1:\n",
    "    print(i)"
   ]
  },
  {
   "cell_type": "code",
   "execution_count": null,
   "id": "b8f544ca-970e-4777-aedb-3efd0c771337",
   "metadata": {},
   "outputs": [],
   "source": []
  }
 ],
 "metadata": {
  "kernelspec": {
   "display_name": "Python 3 (ipykernel)",
   "language": "python",
   "name": "python3"
  },
  "language_info": {
   "codemirror_mode": {
    "name": "ipython",
    "version": 3
   },
   "file_extension": ".py",
   "mimetype": "text/x-python",
   "name": "python",
   "nbconvert_exporter": "python",
   "pygments_lexer": "ipython3",
   "version": "3.12.4"
  }
 },
 "nbformat": 4,
 "nbformat_minor": 5
}
