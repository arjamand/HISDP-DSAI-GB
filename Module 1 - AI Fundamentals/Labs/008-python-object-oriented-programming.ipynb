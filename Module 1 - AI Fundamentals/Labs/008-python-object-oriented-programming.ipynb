{
 "cells": [
  {
   "cell_type": "code",
   "execution_count": null,
   "id": "ee7d9c4c-c3d2-459e-bcf5-e96724a58545",
   "metadata": {},
   "outputs": [],
   "source": [
    "class BankAccount(): # pascalcase - BankAccount, snakecae - bankAccount, camelcase - bank_account\n",
    "    def __innit__ (self,param1, param2, acc_number, balance ): # constructor , initializer\n",
    "        # properties\n",
    "        self.param1 = \"\"\n",
    "        self.param2 = \"\"\n",
    "        self.acc_number = 0\n",
    "        self.balance = 0\n",
    "\n",
    "\n",
    "    def deposit(self.ammount):\n",
    "        self.balance += ammount \n",
    "        \n",
    "    "
   ]
  },
  {
   "cell_type": "code",
   "execution_count": 57,
   "id": "d3377d83-ac78-4c2f-bf15-be32e2b25fe8",
   "metadata": {},
   "outputs": [
    {
     "name": "stdout",
     "output_type": "stream",
     "text": [
      "Honda\n",
      "A 125cc Honda MotorCycle of color red is fleeing cops. The Honda bike has got away .\n",
      "A 1000cc Kawasaki MotorCycle of color Blue is fleeing cops. The Kawasaki bike has got away .\n",
      "Top Speed of the superbike is 400.\n",
      "None\n"
     ]
    }
   ],
   "source": [
    "class MotorCycle():\n",
    "    def __init__(self, brand, cc, color_varient):\n",
    "        self.brand = brand\n",
    "        self.cc = cc\n",
    "        self.color_varient = color_varient\n",
    "        \n",
    "    def which_bike(self,brand, cc, color_varient):\n",
    "        self.brand = brand\n",
    "        self.cc = cc\n",
    "        self.color_varient = color_varient  \n",
    "    \n",
    "    def status(self):\n",
    "        return (f\"A {self.cc}cc {self.brand} MotorCycle of color {self.color_varient} is fleeing cops.\"),(f\"The {self.brand} bike has got away .\")\n",
    "        \n",
    "bike1 = MotorCycle(brand = \"Honda\", cc= 125, color_varient = \"red\")\n",
    "# bike1.which_bike(brand = \"Honda\", cc= 125, color_varient = \"red\")\n",
    "\n",
    "#accessing attributes\n",
    "print(bike1.brand)\n",
    "\n",
    "#calling methods\n",
    "print(*(bike1.status()))\n",
    "#inheritance\n",
    "\n",
    "class SuperBikes(MotorCycle): # MotorCycle = Parent/super class\n",
    "    # Superbikes = Child class , sub class\n",
    "    def __init__(self,top_speed, brand=\"Default Brand\",cc=1000, color_varient=\"Default Color\"):\n",
    "        super().__init__(brand, cc, color_varient)\n",
    "        self.top_speed = top_speed\n",
    "\n",
    "    def topspeed(self):\n",
    "        print(f\"Top Speed of the superbike is {self.top_speed}.\")\n",
    "\n",
    "sb1 = SuperBikes(400,\"Kawasaki\",1000,\"Blue\")\n",
    "print(*(sb1.status()))\n",
    "print(sb1.topspeed())\n"
   ]
  },
  {
   "cell_type": "code",
   "execution_count": 21,
   "id": "31c94a4f-8229-46bd-86c7-4d4db9d35ca6",
   "metadata": {},
   "outputs": [],
   "source": [
    "# class TrailBikes(MotorCycle):\n",
    "#     def fuel_cap(self):\n",
    "#         pass\n",
    "\n",
    "# tb1 = TrailBikes(brand = \"Yamaha\", color_varient = \"Blue\")\n"
   ]
  },
  {
   "cell_type": "code",
   "execution_count": 24,
   "id": "d45632df-db36-4f14-92fa-d413d20f3ae8",
   "metadata": {},
   "outputs": [
    {
     "name": "stdout",
     "output_type": "stream",
     "text": [
      "Area of the Rectangle is 300\n",
      "Perimeter of the Rectangle is 70\n"
     ]
    }
   ],
   "source": [
    "class Rectangle():\n",
    "    def __init__(self, lenght, width):\n",
    "        self.lenght = lenght\n",
    "        self.width = width\n",
    "\n",
    "    def area(self):\n",
    "        print(f\"Area of the Rectangle is {self.lenght*self.width}\")\n",
    "\n",
    "    def perimeter(self):\n",
    "        print(f\"Perimeter of the Rectangle is {2*(self.lenght+self.width)}\")\n",
    "\n",
    "r1 = Rectangle(20, 15)\n",
    "r1.area()\n",
    "r1.perimeter()"
   ]
  },
  {
   "cell_type": "code",
   "execution_count": null,
   "id": "33e66e91-edf4-41fc-b20d-2901bcd4ebdb",
   "metadata": {},
   "outputs": [],
   "source": []
  }
 ],
 "metadata": {
  "kernelspec": {
   "display_name": "Python 3 (ipykernel)",
   "language": "python",
   "name": "python3"
  },
  "language_info": {
   "codemirror_mode": {
    "name": "ipython",
    "version": 3
   },
   "file_extension": ".py",
   "mimetype": "text/x-python",
   "name": "python",
   "nbconvert_exporter": "python",
   "pygments_lexer": "ipython3",
   "version": "3.12.4"
  }
 },
 "nbformat": 4,
 "nbformat_minor": 5
}
