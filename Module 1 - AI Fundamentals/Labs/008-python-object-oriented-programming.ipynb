{
 "cells": [
  {
   "cell_type": "code",
   "execution_count": null,
   "id": "ee7d9c4c-c3d2-459e-bcf5-e96724a58545",
   "metadata": {},
   "outputs": [],
   "source": [
    "class BankAccount(): # pascalcase - BankAccount, snakecae - bankAccount, camelcase - bank_account\n",
    "    def __innit__ (self,param1, param2, acc_number, balance ): # constructor , initializer\n",
    "        # properties\n",
    "        self.param1 = \"\"\n",
    "        self.param2 = \"\"\n",
    "        self.acc_number = 0\n",
    "        self.balance = 0\n",
    "\n",
    "\n",
    "    def deposit(self.ammount):\n",
    "        self.balance += ammount \n",
    "        \n",
    "    "
   ]
  },
  {
   "cell_type": "code",
   "execution_count": 30,
   "id": "d3377d83-ac78-4c2f-bf15-be32e2b25fe8",
   "metadata": {},
   "outputs": [
    {
     "name": "stdout",
     "output_type": "stream",
     "text": [
      "A 125cc Honda MotorCycle of color red is fleeing cops. The Honda bike has got away .\n"
     ]
    }
   ],
   "source": [
    "class MotorCycle():\n",
    "    def __innit__(self, brand, cc, color_varient):\n",
    "        self.brand = brand\n",
    "        self.cc = cc\n",
    "        self.color_varient = color_varient\n",
    "        \n",
    "    def which_bike(self,brand, cc, color_varient):\n",
    "        self.brand = brand\n",
    "        self.cc = cc\n",
    "        self.color_varient = color_varient  \n",
    "    \n",
    "    def status(self):\n",
    "        return (f\"A {self.cc}cc {self.brand} MotorCycle of color {self.color_varient} is fleeing cops.\"),(f\"The {self.brand} bike has got away .\")\n",
    "        \n",
    "bike1 = MotorCycle()\n",
    "bike1.which_bike(brand = \"Honda\", cc= 125, color_varient = \"red\")\n",
    "\n",
    "print(*(bike1.status()))\n"
   ]
  },
  {
   "cell_type": "code",
   "execution_count": null,
   "id": "4f8dff9b-eeb6-45f6-9443-a4ef73a0facf",
   "metadata": {},
   "outputs": [],
   "source": []
  }
 ],
 "metadata": {
  "kernelspec": {
   "display_name": "Python 3 (ipykernel)",
   "language": "python",
   "name": "python3"
  },
  "language_info": {
   "codemirror_mode": {
    "name": "ipython",
    "version": 3
   },
   "file_extension": ".py",
   "mimetype": "text/x-python",
   "name": "python",
   "nbconvert_exporter": "python",
   "pygments_lexer": "ipython3",
   "version": "3.12.4"
  }
 },
 "nbformat": 4,
 "nbformat_minor": 5
}
