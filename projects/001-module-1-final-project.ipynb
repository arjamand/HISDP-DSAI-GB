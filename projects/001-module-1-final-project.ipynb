{
 "cells": [
  {
   "cell_type": "markdown",
   "id": "afb4c8b5-9f87-43c1-a929-ebf39877c8fc",
   "metadata": {},
   "source": [
    "The nearest neighbor classifier requires finding nearest neighbor using distance metrics (known\n",
    "as 𝑙𝑝norms). You are required to write a python function that takes two arrays (2D vectors) as\n",
    "input, and find nearest of each Array 1 data point in Array 2. More specifically:\n",
    "```\n",
    "The function should calculate distance of one data point of Array1, with all data points\n",
    "of Array 2, and find its nearest in Array 2.\n",
    "This should be repeated for all points of Array 1.\n",
    "The function should also take norm identifier (as 1,2,or ∞) as input, and select the\n",
    "distance metric accordingly.\n",
    "The function should return an array containing pairs of data points which are closest.\n",
    "```\n"
   ]
  },
  {
   "cell_type": "code",
   "execution_count": 5,
   "id": "57299c04-bc17-4e09-9eea-78c5f34f68a3",
   "metadata": {},
   "outputs": [
    {
     "data": {
      "text/plain": [
       "[([4, 5], [6, 2]), ([5, 2], [6, 2]), ([6, 8], [9, 4])]"
      ]
     },
     "execution_count": 5,
     "metadata": {},
     "output_type": "execute_result"
    }
   ],
   "source": [
    "def find_nearest_neighbors(array1, array2, norm):\n",
    "    nearest_neighbors = []\n",
    "    for point1 in array1:\n",
    "        min_distance = float('inf')  \n",
    "        nearest_point = None \n",
    "        for point2 in array2:\n",
    "            if norm == 1:\n",
    "                #Manhattan \n",
    "                distance = sum(abs(x1 - x2) for x1, x2 in zip(point1, point2))\n",
    "            elif norm == 2:\n",
    "                #Euclidean \n",
    "                distance = (sum((x1 - x2) ** 2 for x1, x2 in zip(point1, point2))) ** 0.5\n",
    "            elif norm == \"inf\":\n",
    "                #Chebyshev \n",
    "                distance = max(abs(x1 - x2) for x1, x2 in zip(point1, point2))\n",
    "                \n",
    "            # checking current distance is smaller than minimum distance (whic is equal to infinity)\n",
    "            if distance < min_distance:\n",
    "                min_distance = distance  \n",
    "                nearest_point = point2   \n",
    "        nearest_neighbors.append((point1, nearest_point))\n",
    "\n",
    "    return nearest_neighbors\n",
    "\n",
    "find_nearest_neighbors([[4,5],[5,2],[6,8]], [[8,3],[6,2],[9,4]], 2)\n"
   ]
  },
  {
   "cell_type": "code",
   "execution_count": null,
   "id": "72114c8e-b70a-4535-8370-cb266fe45def",
   "metadata": {},
   "outputs": [],
   "source": []
  }
 ],
 "metadata": {
  "kernelspec": {
   "display_name": "Python 3 (ipykernel)",
   "language": "python",
   "name": "python3"
  },
  "language_info": {
   "codemirror_mode": {
    "name": "ipython",
    "version": 3
   },
   "file_extension": ".py",
   "mimetype": "text/x-python",
   "name": "python",
   "nbconvert_exporter": "python",
   "pygments_lexer": "ipython3",
   "version": "3.12.4"
  }
 },
 "nbformat": 4,
 "nbformat_minor": 5
}
